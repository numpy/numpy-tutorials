{
 "cells": [
  {
   "cell_type": "markdown",
   "id": "56c4a48a",
   "metadata": {},
   "source": [
    "# Deep learning on MNIST\n",
    "\n",
    "This tutorial demonstrates how to build a simple [feedforward neural network](https://en.wikipedia.org/wiki/Feedforward_neural_network) (with one hidden layer) and train it from scratch with NumPy to recognize handwritten digit images.\n",
    "\n",
    "Your deep learning model — one of the most basic artificial neural networks that resembles the original [multi-layer perceptron](https://en.wikipedia.org/wiki/Multilayer_perceptron) — will learn to classify digits from 0 to 9 from the [MNIST](https://en.wikipedia.org/wiki/MNIST_database) dataset. The dataset contains 60,000 training and 10,000 test images and corresponding labels. Each training and test image is of size 784 (or 28x28 pixels) — this will be your input for the neural network.\n",
    "\n",
    "Based on the image inputs and their labels ([supervised learning](https://en.wikipedia.org/wiki/Supervised_learning)), your neural network will be trained to learn their features using forward propagation and backpropagation ([reverse-mode](https://en.wikipedia.org/wiki/Automatic_differentiation#Reverse_accumulation) differentiation). The final output of the network is a vector of 10 scores — one for each handwritten digit image. You will also evaluate how good your model is at classifying the images on the test set.\n",
    "\n",
    "![Diagram showing operations detailed in this tutorial (The input image\n",
    "is passed into a Hidden layer that creates a weighted sum of outputs.\n",
    "The weighted sum is passed to the Non-linearity, then regularization and\n",
    "into the output layer. The output layer creates a prediction which can\n",
    "then be compared to existing data. The errors are used to calculate the\n",
    "loss function and update weights in the hidden layer and output\n",
    "layer.)](_static/tutorial-deep-learning-on-mnist.png)\n",
    "\n",
    "This tutorial was adapted from the work by [Andrew Trask](https://github.com/iamtrask/Grokking-Deep-Learning) (with the author's permission).\n",
    "\n",
    "## Prerequisites\n",
    "\n",
    "The reader should have some knowledge of Python, NumPy array manipulation, and linear algebra. In addition, you should be familiar with main concepts of [deep learning](https://en.wikipedia.org/wiki/Deep_learning).\n",
    "\n",
    "To refresh the memory, you can take the [Python](https://docs.python.org/dev/tutorial/index.html) and [Linear algebra on n-dimensional arrays](https://numpy.org/numpy-tutorials/content/tutorial-svd.html) tutorials.\n",
    "\n",
    "You are advised to read the [Deep learning](http://www.cs.toronto.edu/~hinton/absps/NatureDeepReview.pdf) paper published in 2015 by Yann LeCun, Yoshua Bengio, and Geoffrey Hinton, who are regarded as some of the pioneers of the field. You should also consider reading Andrew Trask's [Grokking Deep Learning](https://www.manning.com/books/grokking-deep-learning), which teaches deep learning with NumPy.\n",
    "\n",
    "In addition to NumPy, you will be utilizing the following Python standard modules for data loading and processing:\n",
    "- [`urllib`](https://docs.python.org/3/library/urllib.html) for URL handling\n",
    "- [`request`](https://docs.python.org/3/library/urllib.request.html) for URL opening\n",
    "- [`gzip`](https://docs.python.org/3/library/gzip.html) for gzip file decompression\n",
    "- [`pickle`](https://docs.python.org/3/library/pickle.html) to work with the pickle file format\n",
    "\n",
    "    as well as:\n",
    "- [Matplotlib](https://matplotlib.org/) for data visualization\n",
    "\n",
    "This tutorial can be run locally in an isolated environment, such as [Virtualenv](https://virtualenv.pypa.io/en/stable/) or [conda](https://docs.conda.io/projects/conda/en/latest/user-guide/tasks/manage-environments.html). You can use [Jupyter Notebook or JupyterLab](https://jupyter.org/install) to run each notebook cell. Don't forget to [set up NumPy](https://numpy.org/doc/stable/user/absolute_beginners.html#installing-numpy) and [Matplotlib](https://matplotlib.org/users/installing.html#installing-an-official-release).\n",
    "\n",
    "## Table of contents\n",
    "\n",
    "1. Load the MNIST dataset\n",
    "\n",
    "2. Preprocess the dataset\n",
    "\n",
    "3. Build and train a small neural network from scratch\n",
    "\n",
    "4. Next steps\n",
    "\n",
    "---\n",
    "\n",
    "## 1. Load the MNIST dataset\n",
    "\n",
    "In this section, you will download the zipped MNIST dataset files originally developed by Yann LeCun's research team. (More details of the MNIST dataset are available on [Kaggle](https://www.kaggle.com/datasets/hojjatk/mnist-dataset).) Then, you will transform them into 4 files of NumPy array type using built-in Python modules. Finally, you will split the arrays into training and test sets.\n",
    "\n",
    "**1.** Define a variable to store the training/test image/label names of the MNIST dataset in a list:"
   ]
  },
  {
   "cell_type": "code",
   "execution_count": 1,
   "id": "cc168d18",
   "metadata": {},
   "outputs": [],
   "source": [
    "data_sources = {\n",
    "    \"training_images\": \"train-images-idx3-ubyte.gz\",  # 60,000 training images.\n",
    "    \"test_images\": \"t10k-images-idx3-ubyte.gz\",  # 10,000 test images.\n",
    "    \"training_labels\": \"train-labels-idx1-ubyte.gz\",  # 60,000 training labels.\n",
    "    \"test_labels\": \"t10k-labels-idx1-ubyte.gz\",  # 10,000 test labels.\n",
    "}"
   ]
  },
  {
   "cell_type": "markdown",
   "id": "8736f2a0",
   "metadata": {},
   "source": [
    "**2.** Load the data. First check if the data is stored locally; if not, then\n",
    "download it."
   ]
  },
  {
   "cell_type": "code",
   "execution_count": 2,
   "id": "4d270d0c",
   "metadata": {
    "tags": [
     "remove-cell"
    ]
   },
   "outputs": [],
   "source": [
    "# Use responsibly! When running notebooks locally, be sure to keep local\n",
    "# copies of the datasets to prevent unnecessary server requests\n",
    "headers = {\n",
    "    \"User-Agent\": \"Mozilla/5.0 (X11; Linux x86_64; rv:10.0) Gecko/20100101 Firefox/10.0\"\n",
    "}\n",
    "request_opts = {\n",
    "    \"headers\": headers,\n",
    "    \"params\": {\"raw\": \"true\"},\n",
    "}"
   ]
  },
  {
   "cell_type": "code",
   "execution_count": 3,
   "id": "4fbf349f",
   "metadata": {},
   "outputs": [],
   "source": [
    "import requests\n",
    "import os\n",
    "\n",
    "data_dir = \"../_data\"\n",
    "os.makedirs(data_dir, exist_ok=True)\n",
    "\n",
    "base_url = \"https://github.com/rossbar/numpy-tutorial-data-mirror/blob/main/\"\n",
    "\n",
    "for fname in data_sources.values():\n",
    "    fpath = os.path.join(data_dir, fname)\n",
    "    if not os.path.exists(fpath):\n",
    "        print(\"Downloading file: \" + fname)\n",
    "        resp = requests.get(base_url + fname, stream=True, **request_opts)\n",
    "        resp.raise_for_status()  # Ensure download was succesful\n",
    "        with open(fpath, \"wb\") as fh:\n",
    "            for chunk in resp.iter_content(chunk_size=128):\n",
    "                fh.write(chunk)"
   ]
  },
  {
   "cell_type": "markdown",
   "id": "cab2b8f8",
   "metadata": {},
   "source": [
    "**3.** Decompress the 4 files and create 4 [`ndarrays`](https://numpy.org/doc/stable/reference/arrays.ndarray.html), saving them into a dictionary. Each original image is of size 28x28 and neural networks normally expect a 1D vector input; therefore, you also need to reshape the images by multiplying 28 by 28 (784)."
   ]
  },
  {
   "cell_type": "code",
   "execution_count": 4,
   "id": "405a6b03",
   "metadata": {},
   "outputs": [],
   "source": [
    "import gzip\n",
    "import numpy as np\n",
    "\n",
    "mnist_dataset = {}\n",
    "\n",
    "# Images\n",
    "for key in (\"training_images\", \"test_images\"):\n",
    "    with gzip.open(os.path.join(data_dir, data_sources[key]), \"rb\") as mnist_file:\n",
    "        mnist_dataset[key] = np.frombuffer(\n",
    "            mnist_file.read(), np.uint8, offset=16\n",
    "        ).reshape(-1, 28 * 28)\n",
    "# Labels\n",
    "for key in (\"training_labels\", \"test_labels\"):\n",
    "    with gzip.open(os.path.join(data_dir, data_sources[key]), \"rb\") as mnist_file:\n",
    "        mnist_dataset[key] = np.frombuffer(mnist_file.read(), np.uint8, offset=8)"
   ]
  },
  {
   "cell_type": "markdown",
   "id": "6452aa27",
   "metadata": {},
   "source": [
    "**4.** Split the data into training and test sets using the standard notation of `x` for data and `y` for labels, calling the training and test set images `x_train` and `x_test`, and the labels `y_train` and `y_test`:"
   ]
  },
  {
   "cell_type": "code",
   "execution_count": 5,
   "id": "7830eca0",
   "metadata": {},
   "outputs": [],
   "source": [
    "x_train, y_train, x_test, y_test = (\n",
    "    mnist_dataset[\"training_images\"],\n",
    "    mnist_dataset[\"training_labels\"],\n",
    "    mnist_dataset[\"test_images\"],\n",
    "    mnist_dataset[\"test_labels\"],\n",
    ")"
   ]
  },
  {
   "cell_type": "markdown",
   "id": "b3ae1e82",
   "metadata": {},
   "source": [
    "**5.** You can confirm that the shape of the image arrays is `(60000, 784)` and `(10000, 784)` for training and test sets, respectively, and the labels — `(60000,)` and `(10000,)`:"
   ]
  },
  {
   "cell_type": "code",
   "execution_count": 6,
   "id": "7462dcec",
   "metadata": {},
   "outputs": [
    {
     "name": "stdout",
     "output_type": "stream",
     "text": [
      "The shape of training images: (60000, 784) and training labels: (60000,)\n",
      "The shape of test images: (10000, 784) and test labels: (10000,)\n"
     ]
    }
   ],
   "source": [
    "print(\n",
    "    \"The shape of training images: {} and training labels: {}\".format(\n",
    "        x_train.shape, y_train.shape\n",
    "    )\n",
    ")\n",
    "print(\n",
    "    \"The shape of test images: {} and test labels: {}\".format(\n",
    "        x_test.shape, y_test.shape\n",
    "    )\n",
    ")"
   ]
  },
  {
   "cell_type": "markdown",
   "id": "d8ea651e",
   "metadata": {},
   "source": [
    "**6.** And you can inspect some images using Matplotlib:"
   ]
  },
  {
   "cell_type": "code",
   "execution_count": 7,
   "id": "90153f62",
   "metadata": {},
   "outputs": [
    {
     "data": {
      "image/png": "[encoded data removed]",
      "text/plain": [
       "<Figure size 640x480 with 1 Axes>"
      ]
     },
     "metadata": {},
     "output_type": "display_data"
    }
   ],
   "source": [
    "import matplotlib.pyplot as plt\n",
    "\n",
    "# Take the 60,000th image (indexed at 59,999) from the training set,\n",
    "# reshape from (784, ) to (28, 28) to have a valid shape for displaying purposes.\n",
    "mnist_image = x_train[59999, :].reshape(28, 28)\n",
    "# Set the color mapping to grayscale to have a black background.\n",
    "plt.imshow(mnist_image, cmap=\"gray\")\n",
    "# Display the image.\n",
    "plt.show()"
   ]
  },
  {
   "cell_type": "code",
   "execution_count": 8,
   "id": "39f1febe",
   "metadata": {},
   "outputs": [
    {
     "data": {
      "image/png": "[encoded data removed]",
      "text/plain": [
       "<Figure size 640x480 with 5 Axes>"
      ]
     },
     "metadata": {},
     "output_type": "display_data"
    }
   ],
   "source": [
    "# Display 5 random images from the training set.\n",
    "num_examples = 5\n",
    "seed = 147197952744\n",
    "rng = np.random.default_rng(seed)\n",
    "\n",
    "fig, axes = plt.subplots(1, num_examples)\n",
    "for sample, ax in zip(rng.choice(x_train, size=num_examples, replace=False), axes):\n",
    "    ax.imshow(sample.reshape(28, 28), cmap=\"gray\")"
   ]
  },
  {
   "cell_type": "markdown",
   "id": "64fc786d",
   "metadata": {},
   "source": [
    "_Above are five images taken from the MNIST training set. Various hand-drawn\n",
    "Arabic numerals are shown, with exact values chosen randomly with each run of the code._\n",
    "\n",
    "> **Note:** You can also visualize a sample image as an array by printing `x_train[59999]`. Here, `59999` is your 60,000th training image sample (`0` would be your first). Your output will be quite long and should contain an array of 8-bit integers:\n",
    ">\n",
    ">\n",
    "> ```\n",
    "> ...\n",
    ">          0,   0,  38,  48,  48,  22,   0,   0,   0,   0,   0,   0,   0,\n",
    ">          0,   0,   0,   0,   0,   0,   0,   0,   0,   0,   0,   0,   0,\n",
    ">          0,  62,  97, 198, 243, 254, 254, 212,  27,   0,   0,   0,   0,\n",
    "> ...\n",
    "> ```"
   ]
  },
  {
   "cell_type": "code",
   "execution_count": 9,
   "id": "7921ea66",
   "metadata": {},
   "outputs": [
    {
     "data": {
      "text/plain": [
       "np.uint8(8)"
      ]
     },
     "execution_count": 9,
     "metadata": {},
     "output_type": "execute_result"
    }
   ],
   "source": [
    "# Display the label of the 60,000th image (indexed at 59,999) from the training set.\n",
    "y_train[59999]"
   ]
  },
  {
   "cell_type": "markdown",
   "id": "1bae278f",
   "metadata": {},
   "source": [
    "## 2. Preprocess the data\n",
    "\n",
    "Neural networks can work with inputs that are in a form of tensors (multidimensional arrays) of floating-point type. When preprocessing the data, you should consider the following processes: [vectorization](https://en.wikipedia.org/wiki/Vectorization_%28mathematics%29) and [conversion to a floating-point format](https://en.wikipedia.org/wiki/Floating-point_arithmetic#Floating-point_numbers).\n",
    "\n",
    "Since the MNIST data is already vectorized and the arrays are of `dtype` `uint8`, your next challenge is to convert them to a floating-point format, such as `float64` ([double-precision](https://en.wikipedia.org/wiki/Double-precision_floating-point_format)):\n",
    "\n",
    "- _Normalizing_ the image data: a [feature scaling](https://en.wikipedia.org/wiki/Feature_scaling#Application) procedure that can speed up the neural network training process by standardizing the [distribution of your input data](https://arxiv.org/pdf/1502.03167.pdf).\n",
    "- _[One-hot/categorical encoding](https://en.wikipedia.org/wiki/One-hot)_ of the image labels.\n",
    "\n",
    "In practice, you can use different types of floating-point precision depending on your goals and you can find more information about that in the [Nvidia](https://blogs.nvidia.com/blog/2019/11/15/whats-the-difference-between-single-double-multi-and-mixed-precision-computing/) and [Google Cloud](https://cloud.google.com/blog/products/ai-machine-learning/bfloat16-the-secret-to-high-performance-on-cloud-tpus) blog posts.\n",
    "\n",
    "### Convert the image data to the floating-point format\n",
    "\n",
    "The images data contain 8-bit integers encoded in the [0, 255] interval with color values between 0 and 255.\n",
    "\n",
    "You will normalize them into floating-point arrays in the [0, 1] interval by dividing them by 255.\n",
    "\n",
    "**1.** Check that the vectorized image data has type `uint8`:"
   ]
  },
  {
   "cell_type": "code",
   "execution_count": 10,
   "id": "d06a56ec",
   "metadata": {},
   "outputs": [
    {
     "name": "stdout",
     "output_type": "stream",
     "text": [
      "The data type of training images: uint8\n",
      "The data type of test images: uint8\n"
     ]
    }
   ],
   "source": [
    "print(\"The data type of training images: {}\".format(x_train.dtype))\n",
    "print(\"The data type of test images: {}\".format(x_test.dtype))"
   ]
  },
  {
   "cell_type": "markdown",
   "id": "dae8b1a9",
   "metadata": {},
   "source": [
    "**2.** Normalize the arrays by dividing them by 255 (and thus promoting the data type from `uint8` to `float64`) and then assign the train and test image data variables — `x_train` and `x_test` — to `training_images` and `train_labels`, respectively.\n",
    "To reduce the model training and evaluation time in this example, only a subset\n",
    "of the training and test images will be used.\n",
    "Both `training_images` and `test_images` will contain only 1,000 samples each out\n",
    "of the complete datasets of 60,000 and 10,000 images, respectively.\n",
    "These values can be controlled by changing the  `training_sample` and\n",
    "`test_sample` below, up to their maximum values of 60,000 and 10,000."
   ]
  },
  {
   "cell_type": "code",
   "execution_count": 11,
   "id": "4b4ddc37",
   "metadata": {},
   "outputs": [],
   "source": [
    "training_sample, test_sample = 1000, 1000\n",
    "training_images = x_train[0:training_sample] / 255\n",
    "test_images = x_test[0:test_sample] / 255"
   ]
  },
  {
   "cell_type": "markdown",
   "id": "113e3d94",
   "metadata": {},
   "source": [
    "**3.** Confirm that the image data has changed to the floating-point format:"
   ]
  },
  {
   "cell_type": "code",
   "execution_count": 12,
   "id": "cef2da06",
   "metadata": {},
   "outputs": [
    {
     "name": "stdout",
     "output_type": "stream",
     "text": [
      "The data type of training images: float64\n",
      "The data type of test images: float64\n"
     ]
    }
   ],
   "source": [
    "print(\"The data type of training images: {}\".format(training_images.dtype))\n",
    "print(\"The data type of test images: {}\".format(test_images.dtype))"
   ]
  },
  {
   "cell_type": "markdown",
   "id": "beb33bdb",
   "metadata": {},
   "source": [
    "> **Note:** You can also check that normalization was successful by printing `training_images[0]` in a notebook cell. Your long output should contain an array of floating-point numbers:\n",
    ">\n",
    "> ```\n",
    "> ...\n",
    ">        0.        , 0.        , 0.01176471, 0.07058824, 0.07058824,\n",
    ">        0.07058824, 0.49411765, 0.53333333, 0.68627451, 0.10196078,\n",
    ">        0.65098039, 1.        , 0.96862745, 0.49803922, 0.        ,\n",
    "> ...\n",
    "> ```\n",
    "\n",
    "### Convert the labels to floating point through categorical/one-hot encoding\n",
    "\n",
    "You will use one-hot encoding to embed each digit label as an all-zero vector with `np.zeros()` and place `1` for a label index. As a result, your label data will be arrays with `1.0` (or `1.`) in the position of each image label.\n",
    "\n",
    "Since there are 10 labels (from 0 to 9) in total, your arrays will look similar to this:\n",
    "\n",
    "```\n",
    "array([0., 0., 0., 0., 0., 1., 0., 0., 0., 0.])\n",
    "```\n",
    "\n",
    "**1.** Confirm that the image label data are integers with `dtype` `uint8`:"
   ]
  },
  {
   "cell_type": "code",
   "execution_count": 13,
   "id": "8723dcbe",
   "metadata": {},
   "outputs": [
    {
     "name": "stdout",
     "output_type": "stream",
     "text": [
      "The data type of training labels: uint8\n",
      "The data type of test labels: uint8\n"
     ]
    }
   ],
   "source": [
    "print(\"The data type of training labels: {}\".format(y_train.dtype))\n",
    "print(\"The data type of test labels: {}\".format(y_test.dtype))"
   ]
  },
  {
   "cell_type": "markdown",
   "id": "b554e9e4",
   "metadata": {},
   "source": [
    "**2.** Define a function that performs one-hot encoding on arrays:"
   ]
  },
  {
   "cell_type": "code",
   "execution_count": 14,
   "id": "ce86488c",
   "metadata": {},
   "outputs": [],
   "source": [
    "def one_hot_encoding(labels, dimension=10):\n",
    "    # Define a one-hot variable for an all-zero vector\n",
    "    # with 10 dimensions (number labels from 0 to 9).\n",
    "    one_hot_labels = labels[..., None] == np.arange(dimension)[None]\n",
    "    # Return one-hot encoded labels.\n",
    "    return one_hot_labels.astype(np.float64)"
   ]
  },
  {
   "cell_type": "markdown",
   "id": "6a6817f3",
   "metadata": {},
   "source": [
    "**3.** Encode the labels and assign the values to new variables:"
   ]
  },
  {
   "cell_type": "code",
   "execution_count": 15,
   "id": "fec541ae",
   "metadata": {},
   "outputs": [],
   "source": [
    "training_labels = one_hot_encoding(y_train[:training_sample])\n",
    "test_labels = one_hot_encoding(y_test[:test_sample])"
   ]
  },
  {
   "cell_type": "markdown",
   "id": "d755e2e2",
   "metadata": {},
   "source": [
    "**4.** Check that the data type has changed to floating point:"
   ]
  },
  {
   "cell_type": "code",
   "execution_count": 16,
   "id": "718de468",
   "metadata": {},
   "outputs": [
    {
     "name": "stdout",
     "output_type": "stream",
     "text": [
      "The data type of training labels: float64\n",
      "The data type of test labels: float64\n"
     ]
    }
   ],
   "source": [
    "print(\"The data type of training labels: {}\".format(training_labels.dtype))\n",
    "print(\"The data type of test labels: {}\".format(test_labels.dtype))"
   ]
  },
  {
   "cell_type": "markdown",
   "id": "56bcc316",
   "metadata": {},
   "source": [
    "**5.** Examine a few encoded labels:"
   ]
  },
  {
   "cell_type": "code",
   "execution_count": 17,
   "id": "2a9aae4d",
   "metadata": {},
   "outputs": [
    {
     "name": "stdout",
     "output_type": "stream",
     "text": [
      "[0. 0. 0. 0. 0. 1. 0. 0. 0. 0.]\n",
      "[1. 0. 0. 0. 0. 0. 0. 0. 0. 0.]\n",
      "[0. 0. 0. 0. 1. 0. 0. 0. 0. 0.]\n"
     ]
    }
   ],
   "source": [
    "print(training_labels[0])\n",
    "print(training_labels[1])\n",
    "print(training_labels[2])"
   ]
  },
  {
   "cell_type": "markdown",
   "id": "7b438c1e",
   "metadata": {},
   "source": [
    "...and compare to the originals:"
   ]
  },
  {
   "cell_type": "code",
   "execution_count": 18,
   "id": "cc4ffe27",
   "metadata": {},
   "outputs": [
    {
     "name": "stdout",
     "output_type": "stream",
     "text": [
      "5\n",
      "0\n",
      "4\n"
     ]
    }
   ],
   "source": [
    "print(y_train[0])\n",
    "print(y_train[1])\n",
    "print(y_train[2])"
   ]
  },
  {
   "cell_type": "markdown",
   "id": "c011640f",
   "metadata": {},
   "source": [
    "You have finished preparing the dataset.\n",
    "\n",
    "## 3. Build and train a small neural network from scratch\n",
    "\n",
    "In this section you will familiarize yourself with some high-level concepts of the basic building blocks of a deep learning model. You can refer to the original [Deep learning](http://www.cs.toronto.edu/~hinton/absps/NatureDeepReview.pdf) research publication for more information.\n",
    "\n",
    "Afterwards, you will construct the building blocks of a simple deep learning model in Python and NumPy and train it to learn to identify handwritten digits from the MNIST dataset with a certain level of accuracy.\n",
    "\n",
    "### Neural network building blocks with NumPy\n",
    "\n",
    "- _Layers_: These building blocks work as data filters — they process data and learn representations from inputs to better predict the target outputs.\n",
    "\n",
    "    You will use 1 hidden layer in your model to pass the inputs forward (_forward propagation_) and propagate the gradients/error derivatives of a loss function backward (_backpropagation_). These are input, hidden and output layers.\n",
    "\n",
    "    In the hidden (middle) and output (last) layers, the neural network model will compute the weighted sum of inputs. To compute this process, you will use NumPy's matrix multiplication function (the \"dot multiply\" or `np.dot(layer, weights)`).\n",
    "\n",
    "    > **Note:** For simplicity, the bias term is omitted in this example (there is no `np.dot(layer, weights) + bias`).\n",
    "\n",
    "- _Weights_: These are important adjustable parameters that the neural network fine-tunes by forward and backward propagating the data. They are optimized through a process called [gradient descent](https://en.wikipedia.org/wiki/Stochastic_gradient_descent). Before the model training starts, the weights are randomly initialized with NumPy's [`Generator.random()`](https://numpy.org/doc/stable/reference/random/generated/numpy.random.Generator.random.html).\n",
    "\n",
    "    The optimal weights should produce the highest prediction accuracy and the lowest error on the training and test sets.\n",
    "\n",
    "- _Activation function_: Deep learning models are capable of determining non-linear relationships between inputs and outputs and these [non-linear functions](https://en.wikipedia.org/wiki/Activation_function) are usually applied to the output of each layer.\n",
    "\n",
    "    You will use a [rectified linear unit (ReLU)](https://en.wikipedia.org/wiki/Rectifier_(neural_networks)) to the hidden layer's output (for example, `relu(np.dot(layer, weights))`.\n",
    "\n",
    "- _Regularization_: This [technique](https://en.wikipedia.org/wiki/Regularization_(mathematics)) helps prevent the neural network model from [overfitting](https://en.wikipedia.org/wiki/Overfitting).\n",
    "\n",
    "    In this example, you will use a method called dropout — [dilution](https://en.wikipedia.org/wiki/Dilution_(neural_networks)) — that randomly sets a number of features in a layer to 0s. You will define it with NumPy's [`Generator.integers()`](https://numpy.org/doc/stable/reference/random/generated/numpy.random.Generator.integers.html) method and apply it to the hidden layer of the network.\n",
    "\n",
    "- _Loss function_: The computation determines the quality of predictions by comparing the image labels (the truth) with the predicted values in the final layer's output.\n",
    "\n",
    "    For simplicity, you will use a basic total squared error using NumPy's `np.sum()` function (for example, `np.sum((final_layer_output - image_labels) ** 2)`).\n",
    "\n",
    "- _Accuracy_: This metric measures the accuracy of the network's ability to predict on the data it hasn't seen.\n",
    "\n",
    "### Model architecture and training summary\n",
    "\n",
    "Here is a summary of the neural network model architecture and the training process:\n",
    "\n",
    "\n",
    "![Diagram showing operations detailed in this tutorial (The input image\n",
    "is passed into a Hidden layer that creates a weighted sum of outputs.\n",
    "The weighted sum is passed to the Non-linearity, then regularization and\n",
    "into the output layer. The output layer creates a prediction which can\n",
    "then be compared to existing data. The errors are used to calculate the\n",
    "loss function and update weights in the hidden layer and output\n",
    "layer.)](_static/tutorial-deep-learning-on-mnist.png)\n",
    "\n",
    "- _The input layer_:\n",
    "\n",
    "    It is the input for the network — the previously preprocessed data that is loaded from `training_images` into `layer_0`.\n",
    "\n",
    "- _The hidden (middle) layer_:\n",
    "\n",
    "    `layer_1` takes the output from the previous layer and performs matrix-multiplication of the input by weights (`weights_1`) with NumPy's `np.dot()`).\n",
    "\n",
    "    Then, this output is passed through the ReLU activation function for non-linearity and then dropout is applied to help with overfitting.\n",
    "\n",
    "- _The output (last) layer_:\n",
    "\n",
    "    `layer_2` ingests the output from `layer_1` and repeats the same \"dot multiply\" process with `weights_2`.\n",
    "\n",
    "    The final output returns 10 scores for each of the 0-9 digit labels. The network model ends with a size 10 layer — a 10-dimensional vector.\n",
    "\n",
    "- _Forward propagation, backpropagation, training loop_:\n",
    "\n",
    "    In the beginning of model training, your network randomly initializes the weights and feeds the input data forward through the hidden and output layers. This process is the forward pass or forward propagation.\n",
    "\n",
    "    Then, the network propagates the \"signal\" from the loss function back through the hidden layer and adjusts the weights values with the help of the learning rate parameter (more on that later).\n",
    "\n",
    "> **Note:** In more technical terms, you:\n",
    ">\n",
    ">    1. Measure the error by comparing the real label of an image (the truth) with the prediction of the model.\n",
    ">    2. Differentiate the loss function.\n",
    ">    3. Ingest the [gradients](https://en.wikipedia.org/wiki/Gradient) with the respect to the output, and backpropagate them with the respect to the inputs through the layer(s).\n",
    ">\n",
    ">    Since the network contains tensor operations and weight matrices, backpropagation uses the [chain rule](https://en.wikipedia.org/wiki/Chain_rule).\n",
    ">\n",
    ">    With each iteration (epoch) of the neural network training, this forward and backward propagation cycle adjusts the weights, which is reflected in the accuracy and error metrics. As you train the model, your goal is to minimize the error and maximize the accuracy on the training data, where the model learns from, as well as the test data, where you evaluate the model.\n",
    "\n",
    "### Compose the model and begin training and testing it\n",
    "\n",
    "Having covered the main deep learning concepts and the neural network architecture, let's write the code.\n",
    "\n",
    "**1.** We'll start by creating a new random number generator, providing a seed\n",
    "for reproducibility:"
   ]
  },
  {
   "cell_type": "code",
   "execution_count": 19,
   "id": "ba87897d",
   "metadata": {},
   "outputs": [],
   "source": [
    "seed = 884736743\n",
    "rng = np.random.default_rng(seed)"
   ]
  },
  {
   "cell_type": "markdown",
   "id": "f11eacb0",
   "metadata": {},
   "source": [
    "**2.** For the hidden layer, define the ReLU activation function for forward propagation and ReLU's derivative that will be used during backpropagation:"
   ]
  },
  {
   "cell_type": "code",
   "execution_count": 20,
   "id": "9c834dc3",
   "metadata": {},
   "outputs": [],
   "source": [
    "# Define ReLU that returns the input if it's positive and 0 otherwise.\n",
    "def relu(x):\n",
    "    return (x >= 0) * x\n",
    "\n",
    "\n",
    "# Set up a derivative of the ReLU function that returns 1 for a positive input\n",
    "# and 0 otherwise.\n",
    "def relu2deriv(output):\n",
    "    return output >= 0"
   ]
  },
  {
   "cell_type": "markdown",
   "id": "c885ab2e",
   "metadata": {},
   "source": [
    "**3.** Set certain default values of [hyperparameters](https://en.wikipedia.org/wiki/Hyperparameter_(machine_learning)), such as:\n",
    "\n",
    "- [_Learning rate_](https://en.wikipedia.org/wiki/Learning_rate): `learning_rate` — helps limit the magnitude of weight updates to prevent them from overcorrecting.\n",
    "- _Epochs (iterations)_: `epochs` — the number of complete passes — forward and backward propagations — of the data through the network. This parameter can positively or negatively affect the results. The higher the iterations, the longer the learning process may take. Because this is a computationally intensive task, we have chosen a very low number of epochs (20). To get meaningful results, you should choose a much larger number.\n",
    "- _Size of the hidden (middle) layer in a network_: `hidden_size` — different sizes of the hidden layer can affect the results during training and testing.\n",
    "- _Size of the input:_ `pixels_per_image` — you have established that the image input is 784 (28x28) (in pixels).\n",
    "- _Number of labels_: `num_labels` — indicates the output number for the output layer where the predictions occur for 10 (0 to 9) handwritten digit labels."
   ]
  },
  {
   "cell_type": "code",
   "execution_count": 21,
   "id": "5a28f487",
   "metadata": {},
   "outputs": [],
   "source": [
    "learning_rate = 0.005\n",
    "epochs = 20\n",
    "hidden_size = 100\n",
    "pixels_per_image = 784\n",
    "num_labels = 10"
   ]
  },
  {
   "cell_type": "markdown",
   "id": "a6889144",
   "metadata": {},
   "source": [
    "**4.** Initialize the weight vectors that will be used in the hidden and output layers with random values:"
   ]
  },
  {
   "cell_type": "code",
   "execution_count": 22,
   "id": "6a404e51",
   "metadata": {},
   "outputs": [],
   "source": [
    "weights_1 = 0.2 * rng.random((pixels_per_image, hidden_size)) - 0.1\n",
    "weights_2 = 0.2 * rng.random((hidden_size, num_labels)) - 0.1"
   ]
  },
  {
   "cell_type": "markdown",
   "id": "c2d01953",
   "metadata": {},
   "source": [
    "**5.** Set up the neural network's learning experiment with a training loop and start the training process.\n",
    "Note that the model is evaluated against the test set at each epoch to track\n",
    "its performance over the training epochs.\n",
    "\n",
    "Start the training process:"
   ]
  },
  {
   "cell_type": "code",
   "execution_count": 23,
   "id": "90797dda",
   "metadata": {},
   "outputs": [
    {
     "name": "stdout",
     "output_type": "stream",
     "text": [
      "Epoch: 0\n",
      "  Training set error: 0.898\n",
      "  Training set accuracy: 0.397\n",
      "  Test set error: 0.680\n",
      "  Test set accuracy: 0.582\n"
     ]
    },
    {
     "name": "stdout",
     "output_type": "stream",
     "text": [
      "Epoch: 1\n",
      "  Training set error: 0.656\n",
      "  Training set accuracy: 0.633\n",
      "  Test set error: 0.607\n",
      "  Test set accuracy: 0.641\n"
     ]
    },
    {
     "name": "stdout",
     "output_type": "stream",
     "text": [
      "Epoch: 2\n",
      "  Training set error: 0.592\n",
      "  Training set accuracy: 0.68\n",
      "  Test set error: 0.569\n",
      "  Test set accuracy: 0.679\n"
     ]
    },
    {
     "name": "stdout",
     "output_type": "stream",
     "text": [
      "Epoch: 3\n",
      "  Training set error: 0.556\n",
      "  Training set accuracy: 0.7\n",
      "  Test set error: 0.541\n",
      "  Test set accuracy: 0.708\n"
     ]
    },
    {
     "name": "stdout",
     "output_type": "stream",
     "text": [
      "Epoch: 4\n",
      "  Training set error: 0.534\n",
      "  Training set accuracy: 0.732\n",
      "  Test set error: 0.526\n",
      "  Test set accuracy: 0.729\n"
     ]
    },
    {
     "name": "stdout",
     "output_type": "stream",
     "text": [
      "Epoch: 5\n",
      "  Training set error: 0.515\n",
      "  Training set accuracy: 0.715\n",
      "  Test set error: 0.500\n",
      "  Test set accuracy: 0.739\n"
     ]
    },
    {
     "name": "stdout",
     "output_type": "stream",
     "text": [
      "Epoch: 6\n",
      "  Training set error: 0.495\n",
      "  Training set accuracy: 0.748\n",
      "  Test set error: 0.487\n",
      "  Test set accuracy: 0.753\n"
     ]
    },
    {
     "name": "stdout",
     "output_type": "stream",
     "text": [
      "Epoch: 7\n",
      "  Training set error: 0.483\n",
      "  Training set accuracy: 0.769\n",
      "  Test set error: 0.486\n",
      "  Test set accuracy: 0.747\n"
     ]
    },
    {
     "name": "stdout",
     "output_type": "stream",
     "text": [
      "Epoch: 8\n",
      "  Training set error: 0.473\n",
      "  Training set accuracy: 0.776\n",
      "  Test set error: 0.473\n",
      "  Test set accuracy: 0.752\n"
     ]
    },
    {
     "name": "stdout",
     "output_type": "stream",
     "text": [
      "Epoch: 9\n",
      "  Training set error: 0.460\n",
      "  Training set accuracy: 0.788\n",
      "  Test set error: 0.462\n",
      "  Test set accuracy: 0.762\n"
     ]
    },
    {
     "name": "stdout",
     "output_type": "stream",
     "text": [
      "Epoch: 10\n",
      "  Training set error: 0.465\n",
      "  Training set accuracy: 0.769\n",
      "  Test set error: 0.462\n",
      "  Test set accuracy: 0.767\n"
     ]
    },
    {
     "name": "stdout",
     "output_type": "stream",
     "text": [
      "Epoch: 11\n",
      "  Training set error: 0.443\n",
      "  Training set accuracy: 0.801\n",
      "  Test set error: 0.456\n",
      "  Test set accuracy: 0.775\n"
     ]
    },
    {
     "name": "stdout",
     "output_type": "stream",
     "text": [
      "Epoch: 12\n",
      "  Training set error: 0.448\n",
      "  Training set accuracy: 0.795\n",
      "  Test set error: 0.455\n",
      "  Test set accuracy: 0.772\n"
     ]
    },
    {
     "name": "stdout",
     "output_type": "stream",
     "text": [
      "Epoch: 13\n",
      "  Training set error: 0.438\n",
      "  Training set accuracy: 0.787\n",
      "  Test set error: 0.453\n",
      "  Test set accuracy: 0.778\n"
     ]
    },
    {
     "name": "stdout",
     "output_type": "stream",
     "text": [
      "Epoch: 14\n",
      "  Training set error: 0.446\n",
      "  Training set accuracy: 0.791\n",
      "  Test set error: 0.450\n",
      "  Test set accuracy: 0.779\n"
     ]
    },
    {
     "name": "stdout",
     "output_type": "stream",
     "text": [
      "Epoch: 15\n",
      "  Training set error: 0.441\n",
      "  Training set accuracy: 0.788\n",
      "  Test set error: 0.452\n",
      "  Test set accuracy: 0.772\n"
     ]
    },
    {
     "name": "stdout",
     "output_type": "stream",
     "text": [
      "Epoch: 16\n",
      "  Training set error: 0.437\n",
      "  Training set accuracy: 0.786\n",
      "  Test set error: 0.453\n",
      "  Test set accuracy: 0.772\n"
     ]
    },
    {
     "name": "stdout",
     "output_type": "stream",
     "text": [
      "Epoch: 17\n",
      "  Training set error: 0.436\n",
      "  Training set accuracy: 0.794\n",
      "  Test set error: 0.449\n",
      "  Test set accuracy: 0.778\n"
     ]
    },
    {
     "name": "stdout",
     "output_type": "stream",
     "text": [
      "Epoch: 18\n",
      "  Training set error: 0.433\n",
      "  Training set accuracy: 0.801\n",
      "  Test set error: 0.450\n",
      "  Test set accuracy: 0.774\n"
     ]
    },
    {
     "name": "stdout",
     "output_type": "stream",
     "text": [
      "Epoch: 19\n",
      "  Training set error: 0.429\n",
      "  Training set accuracy: 0.785\n",
      "  Test set error: 0.436\n",
      "  Test set accuracy: 0.784\n"
     ]
    }
   ],
   "source": [
    "# To store training and test set losses and accurate predictions\n",
    "# for visualization.\n",
    "store_training_loss = []\n",
    "store_training_accurate_pred = []\n",
    "store_test_loss = []\n",
    "store_test_accurate_pred = []\n",
    "\n",
    "# This is a training loop.\n",
    "# Run the learning experiment for a defined number of epochs (iterations).\n",
    "for j in range(epochs):\n",
    "\n",
    "    #################\n",
    "    # Training step #\n",
    "    #################\n",
    "\n",
    "    # Set the initial loss/error and the number of accurate predictions to zero.\n",
    "    training_loss = 0.0\n",
    "    training_accurate_predictions = 0\n",
    "\n",
    "    # For all images in the training set, perform a forward pass\n",
    "    # and backpropagation and adjust the weights accordingly.\n",
    "    for i in range(len(training_images)):\n",
    "        # Forward propagation/forward pass:\n",
    "        # 1. The input layer:\n",
    "        #    Initialize the training image data as inputs.\n",
    "        layer_0 = training_images[i]\n",
    "        # 2. The hidden layer:\n",
    "        #    Take in the training image data into the middle layer by\n",
    "        #    matrix-multiplying it by randomly initialized weights.\n",
    "        layer_1 = np.dot(layer_0, weights_1)\n",
    "        # 3. Pass the hidden layer's output through the ReLU activation function.\n",
    "        layer_1 = relu(layer_1)\n",
    "        # 4. Define the dropout function for regularization.\n",
    "        dropout_mask = rng.integers(low=0, high=2, size=layer_1.shape)\n",
    "        # 5. Apply dropout to the hidden layer's output.\n",
    "        layer_1 *= dropout_mask * 2\n",
    "        # 6. The output layer:\n",
    "        #    Ingest the output of the middle layer into the the final layer\n",
    "        #    by matrix-multiplying it by randomly initialized weights.\n",
    "        #    Produce a 10-dimension vector with 10 scores.\n",
    "        layer_2 = np.dot(layer_1, weights_2)\n",
    "\n",
    "        # Backpropagation/backward pass:\n",
    "        # 1. Measure the training error (loss function) between the actual\n",
    "        #    image labels (the truth) and the prediction by the model.\n",
    "        training_loss += np.sum((training_labels[i] - layer_2) ** 2)\n",
    "        # 2. Increment the accurate prediction count.\n",
    "        training_accurate_predictions += int(\n",
    "            np.argmax(layer_2) == np.argmax(training_labels[i])\n",
    "        )\n",
    "        # 3. Differentiate the loss function/error.\n",
    "        layer_2_delta = training_labels[i] - layer_2\n",
    "        # 4. Propagate the gradients of the loss function back through the hidden layer.\n",
    "        layer_1_delta = np.dot(weights_2, layer_2_delta) * relu2deriv(layer_1)\n",
    "        # 5. Apply the dropout to the gradients.\n",
    "        layer_1_delta *= dropout_mask\n",
    "        # 6. Update the weights for the middle and input layers\n",
    "        #    by multiplying them by the learning rate and the gradients.\n",
    "        weights_1 += learning_rate * np.outer(layer_0, layer_1_delta)\n",
    "        weights_2 += learning_rate * np.outer(layer_1, layer_2_delta)\n",
    "\n",
    "    # Store training set losses and accurate predictions.\n",
    "    store_training_loss.append(training_loss)\n",
    "    store_training_accurate_pred.append(training_accurate_predictions)\n",
    "\n",
    "    ###################\n",
    "    # Evaluation step #\n",
    "    ###################\n",
    "\n",
    "    # Evaluate model performance on the test set at each epoch.\n",
    "\n",
    "    # Unlike the training step, the weights are not modified for each image\n",
    "    # (or batch). Therefore the model can be applied to the test images in a\n",
    "    # vectorized manner, eliminating the need to loop over each image\n",
    "    # individually:\n",
    "\n",
    "    results = relu(test_images @ weights_1) @ weights_2\n",
    "\n",
    "    # Measure the error between the actual label (truth) and prediction values.\n",
    "    test_loss = np.sum((test_labels - results) ** 2)\n",
    "\n",
    "    # Measure prediction accuracy on test set\n",
    "    test_accurate_predictions = np.sum(\n",
    "        np.argmax(results, axis=1) == np.argmax(test_labels, axis=1)\n",
    "    )\n",
    "\n",
    "    # Store test set losses and accurate predictions.\n",
    "    store_test_loss.append(test_loss)\n",
    "    store_test_accurate_pred.append(test_accurate_predictions)\n",
    "\n",
    "    # Summarize error and accuracy metrics at each epoch\n",
    "    print(\n",
    "        (\n",
    "            f\"Epoch: {j}\\n\"\n",
    "            f\"  Training set error: {training_loss / len(training_images):.3f}\\n\"\n",
    "            f\"  Training set accuracy: {training_accurate_predictions / len(training_images)}\\n\"\n",
    "            f\"  Test set error: {test_loss / len(test_images):.3f}\\n\"\n",
    "            f\"  Test set accuracy: {test_accurate_predictions / len(test_images)}\"\n",
    "        )\n",
    "    )"
   ]
  },
  {
   "cell_type": "markdown",
   "id": "7f698278",
   "metadata": {},
   "source": [
    "The training process may take many minutes, depending on a number of factors, such as the processing power of the machine you are running the experiment on and the number of epochs. To reduce the waiting time, you can change the epoch (iteration) variable from 100 to a lower number, reset the runtime (which will reset the weights), and run the notebook cells again."
   ]
  },
  {
   "cell_type": "markdown",
   "id": "d6a7ffe3",
   "metadata": {},
   "source": [
    "After executing the cell above, you can visualize the training and test set errors and accuracy for an instance of this training process."
   ]
  },
  {
   "cell_type": "code",
   "execution_count": 24,
   "id": "36cc4665",
   "metadata": {},
   "outputs": [
    {
     "data": {
      "image/png": "[encoded data removed]",
      "text/plain": [
       "<Figure size 1500x500 with 2 Axes>"
      ]
     },
     "metadata": {},
     "output_type": "display_data"
    }
   ],
   "source": [
    "epoch_range = np.arange(epochs) + 1  # Starting from 1\n",
    "\n",
    "# The training set metrics.\n",
    "training_metrics = {\n",
    "    \"accuracy\": np.asarray(store_training_accurate_pred) / len(training_images),\n",
    "    \"error\": np.asarray(store_training_loss) / len(training_images),\n",
    "}\n",
    "\n",
    "# The test set metrics.\n",
    "test_metrics = {\n",
    "    \"accuracy\": np.asarray(store_test_accurate_pred) / len(test_images),\n",
    "    \"error\": np.asarray(store_test_loss) / len(test_images),\n",
    "}\n",
    "\n",
    "# Display the plots.\n",
    "fig, axes = plt.subplots(nrows=1, ncols=2, figsize=(15, 5))\n",
    "for ax, metrics, title in zip(\n",
    "    axes, (training_metrics, test_metrics), (\"Training set\", \"Test set\")\n",
    "):\n",
    "    # Plot the metrics\n",
    "    for metric, values in metrics.items():\n",
    "        ax.plot(epoch_range, values, label=metric.capitalize())\n",
    "    ax.set_title(title)\n",
    "    ax.set_xlabel(\"Epochs\")\n",
    "    ax.legend()\n",
    "plt.show()"
   ]
  },
  {
   "cell_type": "markdown",
   "id": "c7af3fb0",
   "metadata": {},
   "source": [
    "_The training and testing error is shown above in the left and right\n",
    "plots, respectively. As the number of Epochs increases, the total error\n",
    "decreases and the accuracy increases._\n",
    "\n",
    "The accuracy rates that your model reaches during training and testing may be somewhat plausible but you may also find the error rates to be quite high.\n",
    "\n",
    "To reduce the error during training and testing, you can consider changing the simple loss function to, for example, categorical [cross-entropy](https://en.wikipedia.org/wiki/Cross_entropy). Other possible solutions are discussed below.\n",
    "\n",
    "## Next steps\n",
    "\n",
    "You have learned how to build and train a simple feed-forward neural network from scratch using just NumPy to classify handwritten MNIST digits.\n",
    "\n",
    "To further enhance and optimize your neural network model, you can consider one of a mixture of the following:\n",
    "- Increase the training sample size from 1,000 to a higher number (up to 60,000).\n",
    "- Use [mini-batches and reduce the learning rate](http://www.cs.toronto.edu/~tijmen/csc321/slides/lecture_slides_lec6.pdf).\n",
    "- Alter the architecture by introducing more hidden layers to make the network [deeper](https://en.wikipedia.org/wiki/Deep_learning).\n",
    "- Combine the [cross-entropy](https://en.wikipedia.org/wiki/Cross_entropy) loss function with a [softmax](https://en.wikipedia.org/wiki/Softmax_function) activation function in the last layer.\n",
    "- Introduce convolutional layers: replace the feedforward network with a [convolutional neural network](https://en.wikipedia.org/wiki/Convolutional_neural_network) architecture.\n",
    "- Use a higher epoch size to train longer and add more regularization techniques, such as [early stopping](https://en.wikipedia.org/wiki/Early_stopping), to prevent [overfitting](https://en.wikipedia.org/wiki/Overfitting).\n",
    "- Introduce a [validation set](https://en.wikipedia.org/wiki/Training,_validation,_and_test_sets) for an unbiased valuation of the model fit.\n",
    "- Apply [batch normalization](https://en.wikipedia.org/wiki/Batch_normalization) for faster and more stable training.\n",
    "- Tune other parameters, such as the learning rate and hidden layer size.\n",
    "\n",
    "Building a neural network from scratch with NumPy is a great way to learn more about NumPy and about deep learning. However, for real-world applications you should use specialized frameworks — such as [PyTorch](https://pytorch.org/), [JAX](https://github.com/google/jax), [TensorFlow](https://www.tensorflow.org/guide/tf_numpy) or [MXNet](https://mxnet.apache.org) — that provide NumPy-like APIs, have built-in [automatic differentiation](https://en.wikipedia.org/wiki/Automatic_differentiation) and GPU support, and are designed for high-performance numerical computing and machine learning.\n",
    "\n",
    "Finally, when developing a machine learning model, you should think about potential ethical issues and apply practices to avoid or mitigate those:\n",
    "- Document a trained model with a Model Card - see the [Model Cards for Model Reporting paper](https://doi.org/10.1145/3287560.3287596) by Margaret Mitchell et al..\n",
    "- Document a dataset with a Datasheet - see the [Datasheets for Datasets paper](https://arxiv.org/abs/1803.09010)) by Timnit Gebru et al..\n",
    "- Consider the impact of your model - who is affected by it, who does it benefit - see [the article](https://www.nature.com/articles/d41586-020-02003-2) and [talk](https://slideslive.com/38923453/the-values-of-machine-learning) by Pratyusha Kalluri.\n",
    "- For more resources, see [this blog post by Rachel Thomas](https://www.fast.ai/2018/09/24/ai-ethics-resources/) and the [Radical AI podcast](https://www.radicalai.org/).\n",
    "\n",
    "(Credit to [hsjeong5](https://github.com/hsjeong5/MNIST-for-Numpy) for demonstrating how to download MNIST without the use of external libraries.)"
   ]
  }
 ],
 "metadata": {
  "jupytext": {
   "text_representation": {
    "extension": ".md",
    "format_name": "myst",
    "format_version": 0.13,
    "jupytext_version": "1.11.1"
   }
  },
  "kernelspec": {
   "display_name": "Python 3",
   "language": "python",
   "name": "python3"
  },
  "language_info": {
   "codemirror_mode": {
    "name": "ipython",
    "version": 3
   },
   "file_extension": ".py",
   "mimetype": "text/x-python",
   "name": "python",
   "nbconvert_exporter": "python",
   "pygments_lexer": "ipython3",
   "version": "3.10.16"
  },
  "source_map": [
   12,
   69,
   76,
   81,
   95,
   113,
   117,
   133,
   137,
   144,
   148,
   159,
   163,
   175,
   184,
   200,
   203,
   224,
   227,
   237,
   241,
   245,
   248,
   272,
   275,
   279,
   286,
   290,
   293,
   297,
   300,
   304,
   308,
   312,
   316,
   406,
   409,
   413,
   423,
   433,
   439,
   443,
   446,
   454,
   555,
   559,
   563,
   590
  ]
 },
 "nbformat": 4,
 "nbformat_minor": 5
}