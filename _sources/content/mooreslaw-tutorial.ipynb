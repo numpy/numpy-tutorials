{
 "cells": [
  {
   "cell_type": "markdown",
   "id": "a2ab48fb",
   "metadata": {},
   "source": [
    "# Determining Moore's Law with real data in NumPy\n",
    "![Scatter plot of MOS transistor count per microprocessor every two years as a demonstration of Moore's Law.](_static/01-mooreslaw-tutorial-intro.png)\n",
    "\n",
    "_The number of transistors reported per a given chip plotted on a log scale in the y axis with the date of introduction on the linear scale x-axis. The blue data points are from a [transistor count table](https://en.wikipedia.org/wiki/Transistor_count#Microprocessors). The red line is an ordinary least squares prediction and the orange line is Moore's law._\n",
    "\n",
    "## What you'll do\n",
    "\n",
    "In 1965, engineer Gordon Moore\n",
    "[predicted](https://en.wikipedia.org/wiki/Moore%27s_law) that\n",
    "transistors on a chip would double every two years in the coming decade\n",
    "[[1](https://en.wikipedia.org/wiki/Moore%27s_law)].\n",
    "You'll compare Moore's prediction against actual transistor counts in\n",
    "the 53 years following his prediction. You will determine the best-fit constants to describe the exponential growth of transistors on semiconductors compared to Moore's Law.\n",
    "\n",
    "\n",
    "## Skills you'll learn\n",
    "\n",
    "\n",
    "- Load data from a [\\*.csv](https://en.wikipedia.org/wiki/Comma-separated_values) file\n",
    "- Perform linear regression and predict exponential growth using ordinary least squares\n",
    "- You'll compare exponential growth constants between models\n",
    "- Share your analysis in a file:\n",
    "    - as NumPy zipped files `*.npz`\n",
    "    - as a `*.csv` file\n",
    "- Assess the amazing progress semiconductor manufacturers have made in the last five decades\n",
    "\n",
    "## What you'll need\n",
    "\n",
    "**1.** These packages:\n",
    "\n",
    "* NumPy\n",
    "* [Matplotlib](https://matplotlib.org/)\n",
    "\n",
    "imported with the following commands"
   ]
  },
  {
   "cell_type": "code",
   "execution_count": 1,
   "id": "341ac105",
   "metadata": {},
   "outputs": [],
   "source": [
    "import matplotlib.pyplot as plt\n",
    "import numpy as np"
   ]
  },
  {
   "cell_type": "markdown",
   "id": "c8e1dd59",
   "metadata": {},
   "source": [
    "**2.** Since this is an exponential growth law you need a little background in doing math with [natural logs](https://en.wikipedia.org/wiki/Natural_logarithm) and [exponentials](https://en.wikipedia.org/wiki/Exponential_function).\n",
    "\n",
    "You'll use these NumPy and Matplotlib functions:\n",
    "\n",
    "* [`np.loadtxt`](https://numpy.org/doc/stable/reference/generated/numpy.loadtxt.html): this function loads text into a NumPy array\n",
    "* [`np.log`](https://numpy.org/doc/stable/reference/generated/numpy.log.html): this function takes the natural log of all elements in a NumPy array\n",
    "* [`np.exp`](https://numpy.org/doc/stable/reference/generated/numpy.exp.html): this function takes the exponential of all elements in a NumPy array\n",
    "* [`lambda`](https://docs.python.org/3/library/ast.html?highlight=lambda#ast.Lambda): this is a minimal function definition for creating a function model\n",
    "* [`plt.semilogy`](https://matplotlib.org/3.1.1/api/_as_gen/matplotlib.pyplot.semilogy.html): this function will plot x-y data onto a figure with a linear x-axis and $\\log_{10}$ y-axis\n",
    "[`plt.plot`](https://matplotlib.org/3.1.1/api/_as_gen/matplotlib.pyplot.plot.html): this function will plot x-y data on linear axes\n",
    "* slicing arrays: view parts of the data loaded into the workspace, slice the arrays e.g. `x[:10]` for the first 10 values in the array, `x`\n",
    "* boolean array indexing: to view parts of the data that match a given condition use boolean operations to index an array\n",
    "* [`np.block`](https://numpy.org/doc/stable/reference/generated/numpy.block.html): to combine arrays into 2D arrays\n",
    "* [`np.newaxis`](https://numpy.org/doc/stable/reference/constants.html): to change a 1D vector to a row or column vector\n",
    "* [`np.savez`](https://numpy.org/doc/stable/reference/generated/numpy.savez.html) and [`np.savetxt`](https://numpy.org/doc/stable/reference/generated/numpy.savetxt.html): these two functions will save your arrays in zipped array format and text, respectively"
   ]
  },
  {
   "cell_type": "markdown",
   "id": "392ab3bc",
   "metadata": {},
   "source": [
    "---\n",
    "\n",
    "## Building Moore's law as an exponential function\n",
    "\n",
    "Your empirical model assumes that the number of transistors per\n",
    "semiconductor follows an exponential growth,\n",
    "\n",
    "$\\log(\\text{transistor_count})= f(\\text{year}) = A\\cdot \\text{year}+B,$\n",
    "\n",
    "where $A$ and $B$ are fitting constants. You use semiconductor\n",
    "manufacturers' data to find the fitting constants.\n",
    "\n",
    "You determine these constants for Moore's law by specifying the\n",
    "rate for added transistors, 2, and giving an initial number of transistors for a given year.\n",
    "\n",
    "You state Moore's law in an exponential form as follows,\n",
    "\n",
    "$\\text{transistor_count}= e^{A_M\\cdot \\text{year} +B_M}.$\n",
    "\n",
    "Where $A_M$ and $B_M$ are constants that double the number of transistors every two years and start at 2250 transistors in 1971,\n",
    "\n",
    "1. $\\dfrac{\\text{transistor_count}(\\text{year} +2)}{\\text{transistor_count}(\\text{year})} = 2 = \\dfrac{e^{B_M}e^{A_M \\text{year} + 2A_M}}{e^{B_M}e^{A_M \\text{year}}} = e^{2A_M} \\rightarrow A_M = \\frac{\\log(2)}{2}$\n",
    "\n",
    "2. $\\log(2250) = \\frac{\\log(2)}{2}\\cdot 1971 + B_M \\rightarrow B_M = \\log(2250)-\\frac{\\log(2)}{2}\\cdot 1971$\n",
    "\n",
    "so Moore's law stated as an exponential function is\n",
    "\n",
    "$\\log(\\text{transistor_count})= A_M\\cdot \\text{year}+B_M,$\n",
    "\n",
    "where\n",
    "\n",
    "$A_M=0.3466$\n",
    "\n",
    "$B_M=-675.4$\n",
    "\n",
    "Since the function represents Moore's law, define it as a Python\n",
    "function using\n",
    "[`lambda`](https://docs.python.org/3/library/ast.html?highlight=lambda#ast.Lambda)"
   ]
  },
  {
   "cell_type": "code",
   "execution_count": 2,
   "id": "120cf528",
   "metadata": {},
   "outputs": [],
   "source": [
    "A_M = np.log(2) / 2\n",
    "B_M = np.log(2250) - A_M * 1971\n",
    "Moores_law = lambda year: np.exp(B_M) * np.exp(A_M * year)"
   ]
  },
  {
   "cell_type": "markdown",
   "id": "ee7be120",
   "metadata": {},
   "source": [
    "In 1971, there were 2250 transistors on the Intel 4004 chip. Use\n",
    "`Moores_law` to check the number of semiconductors Gordon Moore would expect\n",
    "in 1973."
   ]
  },
  {
   "cell_type": "code",
   "execution_count": 3,
   "id": "d5b60439",
   "metadata": {},
   "outputs": [
    {
     "name": "stdout",
     "output_type": "stream",
     "text": [
      "In 1973, G. Moore expects 4500 transistors on Intels chips\n",
      "This is x2.00 more transistors than 1971\n"
     ]
    }
   ],
   "source": [
    "ML_1971 = Moores_law(1971)\n",
    "ML_1973 = Moores_law(1973)\n",
    "print(\"In 1973, G. Moore expects {:.0f} transistors on Intels chips\".format(ML_1973))\n",
    "print(\"This is x{:.2f} more transistors than 1971\".format(ML_1973 / ML_1971))"
   ]
  },
  {
   "cell_type": "markdown",
   "id": "605a6b28",
   "metadata": {},
   "source": [
    "## Loading historical manufacturing data to your workspace\n",
    "\n",
    "Now, make a prediction based upon the historical data for\n",
    "semiconductors per chip. The [Transistor Count\n",
    "\\[3\\]](https://en.wikipedia.org/wiki/Transistor_count#Microprocessors)\n",
    "each year is in the `transistor_data.csv` file. Before loading a \\*.csv\n",
    "file into a NumPy array, its a good idea to inspect the structure of the\n",
    "file first. Then, locate the columns of interest and save them to a\n",
    "variable. Save two columns of the file to the array, `data`.\n",
    "\n",
    "Here, print out the first 10 rows of `transistor_data.csv`. The columns are\n",
    "\n",
    "|Processor|MOS transistor count|Date of Introduction|Designer|MOSprocess|Area|\n",
    "|---|---|---|---|---|---|\n",
    "|Intel 4004 (4-bit  16-pin)|2250|1971|Intel|\"10,000 nm\"|12 mm²|\n",
    "|...|...|...|...|...|...|"
   ]
  },
  {
   "cell_type": "code",
   "execution_count": 4,
   "id": "442003f0",
   "metadata": {},
   "outputs": [
    {
     "name": "stdout",
     "output_type": "stream",
     "text": [
      "Processor,MOS transistor count,Date of Introduction,Designer,MOSprocess,Area\r\n",
      "Intel 4004 (4-bit  16-pin),2250,1971,Intel,\"10,000 nm\",12 mm²\r\n",
      "Intel 8008 (8-bit  18-pin),3500,1972,Intel,\"10,000 nm\",14 mm²\r\n",
      "NEC μCOM-4 (4-bit  42-pin),2500,1973,NEC,\"7,500 nm\",?\r\n",
      "Intel 4040 (4-bit  16-pin),3000,1974,Intel,\"10,000 nm\",12 mm²\r\n",
      "Motorola 6800 (8-bit  40-pin),4100,1974,Motorola,\"6,000 nm\",16 mm²\r\n",
      "Intel 8080 (8-bit  40-pin),6000,1974,Intel,\"6,000 nm\",20 mm²\r\n",
      "TMS 1000 (4-bit  28-pin),8000,1974,Texas Instruments,\"8,000 nm\",11 mm²\r\n",
      "MOS Technology 6502 (8-bit  40-pin),4528,1975,MOS Technology,\"8,000 nm\",21 mm²\r\n",
      "Intersil IM6100 (12-bit  40-pin; clone of PDP-8),4000,1975,Intersil,,\r\n"
     ]
    }
   ],
   "source": [
    "! head transistor_data.csv"
   ]
  },
  {
   "cell_type": "markdown",
   "id": "28a4e252",
   "metadata": {},
   "source": [
    "You don't need the columns that specify __Processor__, __Designer__,\n",
    "__MOSprocess__, or __Area__. That leaves the second and third columns,\n",
    "__MOS transistor count__ and __Date of Introduction__, respectively.\n",
    "\n",
    "Next, you load these two columns into a NumPy array using\n",
    "[`np.loadtxt`](https://numpy.org/doc/stable/reference/generated/numpy.loadtxt.html).\n",
    "The extra options below will put the data in the desired format:\n",
    "\n",
    "* `delimiter = ','`: specify delimeter as a comma ',' (this is the default behavior)\n",
    "* `usecols = [1,2]`: import the second and third columns from the csv\n",
    "* `skiprows = 1`: do not use the first row, because its a header row"
   ]
  },
  {
   "cell_type": "code",
   "execution_count": 5,
   "id": "6707c2a9",
   "metadata": {},
   "outputs": [],
   "source": [
    "data = np.loadtxt(\"transistor_data.csv\", delimiter=\",\", usecols=[1, 2], skiprows=1)"
   ]
  },
  {
   "cell_type": "markdown",
   "id": "dd187455",
   "metadata": {},
   "source": [
    "You loaded the entire history of semiconducting into a NumPy array named\n",
    "`data`. The first column is the __MOS transistor count__ and the second\n",
    "column is the __Date of Introduction__ in a four-digit year.\n",
    "\n",
    "Next, make the data easier to read and manage by assigning the two\n",
    "columns to variables, `year` and `transistor_count`. Print out the first\n",
    "10 values by slicing the `year` and `transistor_count` arrays with\n",
    "`[:10]`. Print these values out to check that you have the saved the\n",
    "data to the correct variables."
   ]
  },
  {
   "cell_type": "code",
   "execution_count": 6,
   "id": "225f1337",
   "metadata": {},
   "outputs": [
    {
     "name": "stdout",
     "output_type": "stream",
     "text": [
      "year:\t\t [1971. 1972. 1973. 1974. 1974. 1974. 1974. 1975. 1975. 1975.]\n",
      "trans. cnt:\t [2250. 3500. 2500. 3000. 4100. 6000. 8000. 4528. 4000. 5000.]\n"
     ]
    }
   ],
   "source": [
    "year = data[:, 1]  # grab the second column and assign\n",
    "transistor_count = data[:, 0]  # grab the first column and assign\n",
    "\n",
    "print(\"year:\\t\\t\", year[:10])\n",
    "print(\"trans. cnt:\\t\", transistor_count[:10])"
   ]
  },
  {
   "cell_type": "markdown",
   "id": "6e5f390e",
   "metadata": {},
   "source": [
    "You are creating a function that predicts the transistor count given a\n",
    "year. You have an _independent variable_, `year`, and a _dependent\n",
    "variable_, `transistor_count`. Transform the dependent variable to\n",
    "log-scale,\n",
    "\n",
    "$y_i = \\log($ `transistor_count[i]` $),$\n",
    "\n",
    "resulting in a linear equation,\n",
    "\n",
    "$y_i = A\\cdot \\text{year} +B$."
   ]
  },
  {
   "cell_type": "code",
   "execution_count": 7,
   "id": "1b135114",
   "metadata": {},
   "outputs": [],
   "source": [
    "yi = np.log(transistor_count)"
   ]
  },
  {
   "cell_type": "markdown",
   "id": "bc90d297",
   "metadata": {},
   "source": [
    "## Calculating the historical growth curve for transistors\n",
    "\n",
    "Your model assume that `yi` is a function of `year`. Now, find the best-fit model that minimizes the difference between $y_i$ and $A\\cdot \\text{year} +B, $ as such\n",
    "\n",
    "$\\min \\sum|y_i - (A\\cdot \\text{year}_i + B)|^2.$\n",
    "\n",
    "This [sum of squares\n",
    "error](https://en.wikipedia.org/wiki/Ordinary_least_squares) can be\n",
    "succinctly represented as arrays as such\n",
    "\n",
    "$\\sum|\\mathbf{y}-\\mathbf{Z} [A,~B]^T|^2,$\n",
    "\n",
    "where $\\mathbf{y}$ are the observations of the log of the number of\n",
    "transistors in a 1D array and $\\mathbf{Z}=[\\text{year}_i^1,~\\text{year}_i^0]$ are the\n",
    "polynomial terms for $\\text{year}_i$ in the first and second columns. By\n",
    "creating this set of regressors in the $\\mathbf{Z}-$matrix you set\n",
    "up an ordinary least squares statistical model.\n",
    "\n",
    "`Z` is a linear model with two parameters, i.e. a polynomial with degree `1`.\n",
    "Therefore we can represent the model with `numpy.polynomial.Polynomial` and\n",
    "use the fitting functionality to determine the model parameters:"
   ]
  },
  {
   "cell_type": "code",
   "execution_count": 8,
   "id": "6c49475f",
   "metadata": {},
   "outputs": [],
   "source": [
    "model = np.polynomial.Polynomial.fit(year, yi, deg=1)"
   ]
  },
  {
   "cell_type": "markdown",
   "id": "6a7eed89",
   "metadata": {},
   "source": [
    "By default, `Polynomial.fit` performs the fit in the domain determined by the\n",
    "independent variable (`year` in this case).\n",
    "The coefficients for the unscaled and unshifted model can be recovered with the\n",
    "`convert` method:"
   ]
  },
  {
   "cell_type": "code",
   "execution_count": 9,
   "id": "b7b76e48",
   "metadata": {},
   "outputs": [
    {
     "data": {
      "text/latex": [
       "$x \\mapsto \\text{-666.32640635} + \\text{0.34163208}\\,x$"
      ],
      "text/plain": [
       "Polynomial([-6.66326406e+02,  3.41632083e-01], domain=[-1.,  1.], window=[-1.,  1.], symbol='x')"
      ]
     },
     "execution_count": 9,
     "metadata": {},
     "output_type": "execute_result"
    }
   ],
   "source": [
    "model = model.convert()\n",
    "model"
   ]
  },
  {
   "cell_type": "markdown",
   "id": "0df42d1c",
   "metadata": {},
   "source": [
    "The individual parameters $A$ and $B$ are the coefficients of our linear model:"
   ]
  },
  {
   "cell_type": "code",
   "execution_count": 10,
   "id": "9f3e1c12",
   "metadata": {},
   "outputs": [],
   "source": [
    "B, A = model"
   ]
  },
  {
   "cell_type": "markdown",
   "id": "9e21fd2d",
   "metadata": {},
   "source": [
    "Did manufacturers double the transistor count every two years? You have\n",
    "the final formula,\n",
    "\n",
    "$\\dfrac{\\text{transistor_count}(\\text{year} +2)}{\\text{transistor_count}(\\text{year})} = xFactor =\n",
    "\\dfrac{e^{B}e^{A( \\text{year} + 2)}}{e^{B}e^{A \\text{year}}} = e^{2A}$\n",
    "\n",
    "where increase in number of transistors is $xFactor,$ number of years is\n",
    "2, and $A$ is the best fit slope on the semilog function."
   ]
  },
  {
   "cell_type": "code",
   "execution_count": 11,
   "id": "ae58b3e1",
   "metadata": {},
   "outputs": [
    {
     "name": "stdout",
     "output_type": "stream",
     "text": [
      "Rate of semiconductors added on a chip every 2 years: 1.98\n"
     ]
    }
   ],
   "source": [
    "print(f\"Rate of semiconductors added on a chip every 2 years: {np.exp(2 * A):.2f}\")"
   ]
  },
  {
   "cell_type": "markdown",
   "id": "84b4564b",
   "metadata": {},
   "source": [
    "Based upon your least-squares regression model, the number of\n",
    "semiconductors per chip increased by a factor of $1.98$ every two\n",
    "years. You have a model that predicts the number of semiconductors each\n",
    "year. Now compare your model to the actual manufacturing reports.  Plot\n",
    "the linear regression results and all of the transistor counts.\n",
    "\n",
    "Here, use\n",
    "[`plt.semilogy`](https://matplotlib.org/3.1.1/api/_as_gen/matplotlib.pyplot.semilogy.html)\n",
    "to plot the number of transistors on a log-scale and the year on a\n",
    "linear scale. You have defined a three arrays to get to a final model\n",
    "\n",
    "$y_i = \\log(\\text{transistor_count}),$\n",
    "\n",
    "$y_i = A \\cdot \\text{year} + B,$\n",
    "\n",
    "and\n",
    "\n",
    "$\\log(\\text{transistor_count}) = A\\cdot \\text{year} + B,$\n",
    "\n",
    "your variables, `transistor_count`, `year`, and `yi` all have the same\n",
    "dimensions, `(179,)`. NumPy arrays need the same dimensions to make a\n",
    "plot. The predicted number of transistors is now\n",
    "\n",
    "$\\text{transistor_count}_{\\text{predicted}} = e^Be^{A\\cdot \\text{year}}$."
   ]
  },
  {
   "cell_type": "markdown",
   "id": "4243f05e",
   "metadata": {},
   "source": [
    "In the next plot, use the\n",
    "[`fivethirtyeight`](https://matplotlib.org/3.1.1/gallery/style_sheets/fivethirtyeight.html)\n",
    "style sheet.\n",
    "The style sheet replicates\n",
    "https://fivethirtyeight.com elements. Change the matplotlib style with\n",
    "[`plt.style.use`](https://matplotlib.org/3.3.2/api/style_api.html#matplotlib.style.use)."
   ]
  },
  {
   "cell_type": "code",
   "execution_count": 12,
   "id": "4cfd730f",
   "metadata": {},
   "outputs": [
    {
     "data": {
      "text/plain": [
       "Text(0, 0.5, '# of transistors\\nper microprocessor')"
      ]
     },
     "execution_count": 12,
     "metadata": {},
     "output_type": "execute_result"
    },
    {
     "data": {
      "image/png": "[encoded data removed]",
      "text/plain": [
       "<Figure size 640x480 with 1 Axes>"
      ]
     },
     "metadata": {},
     "output_type": "display_data"
    }
   ],
   "source": [
    "transistor_count_predicted = np.exp(B) * np.exp(A * year)\n",
    "transistor_Moores_law = Moores_law(year)\n",
    "plt.style.use(\"fivethirtyeight\")\n",
    "plt.semilogy(year, transistor_count, \"s\", label=\"MOS transistor count\")\n",
    "plt.semilogy(year, transistor_count_predicted, label=\"linear regression\")\n",
    "\n",
    "\n",
    "plt.plot(year, transistor_Moores_law, label=\"Moore's Law\")\n",
    "plt.title(\n",
    "    \"MOS transistor count per microprocessor\\n\"\n",
    "    + \"every two years \\n\"\n",
    "    + \"Transistor count was x{:.2f} higher\".format(np.exp(A * 2))\n",
    ")\n",
    "plt.xlabel(\"year introduced\")\n",
    "plt.legend(loc=\"center left\", bbox_to_anchor=(1, 0.5))\n",
    "plt.ylabel(\"# of transistors\\nper microprocessor\")"
   ]
  },
  {
   "cell_type": "markdown",
   "id": "bace3476",
   "metadata": {},
   "source": [
    "_A scatter plot of MOS transistor count per microprocessor every two years with a red line for the ordinary least squares prediction and an orange line for Moore's law._\n",
    "\n",
    "The linear regression captures the increase in the number of transistors\n",
    "per semiconductors each year.  In 2015, semiconductor manufacturers\n",
    "claimed they could not keep up with Moore's law anymore. Your analysis\n",
    "shows that since 1971, the average increase in transistor count was\n",
    "x1.98 every 2 years, but Gordon Moore predicted it would be x2\n",
    "every 2 years. That is an amazing prediction.\n",
    "\n",
    "Consider the year 2017. Compare the data to your linear regression\n",
    "model and Gordon Moore's prediction. First, get the\n",
    "transistor counts from the year 2017. You can do this with a Boolean\n",
    "comparator,\n",
    "\n",
    "`year == 2017`.\n",
    "\n",
    "Then, make a prediction for 2017 with `Moores_law` defined above\n",
    "and plugging in your best fit constants into your function\n",
    "\n",
    "$\\text{transistor_count} = e^{B}e^{A\\cdot \\text{year}}$.\n",
    "\n",
    "A great way to compare these measurements is to compare your prediction\n",
    "and Moore's prediction to the average transistor count and look at the\n",
    "range of reported values for that year. Use the\n",
    "[`plt.plot`](https://matplotlib.org/3.1.1/api/_as_gen/matplotlib.pyplot.plot.html)\n",
    "option,\n",
    "[`alpha=0.2`](https://matplotlib.org/3.1.1/api/_as_gen/matplotlib.artist.Artist.set_alpha.html),\n",
    "to increase the transparency of the data. The more opaque the points\n",
    "appear, the more reported values lie on that measurement. The green $+$\n",
    "is the average reported transistor count for 2017. Plot your predictions\n",
    "for $\\pm\\frac{1}{2}~years."
   ]
  },
  {
   "cell_type": "code",
   "execution_count": 13,
   "id": "7b488187",
   "metadata": {},
   "outputs": [
    {
     "name": "stdout",
     "output_type": "stream",
     "text": [
      "19200000000.0 250000000.0 7050000000.0\n"
     ]
    },
    {
     "data": {
      "text/plain": [
       "<matplotlib.legend.Legend at 0x732907357280>"
      ]
     },
     "execution_count": 13,
     "metadata": {},
     "output_type": "execute_result"
    },
    {
     "data": {
      "image/png": "[encoded data removed]",
      "text/plain": [
       "<Figure size 640x480 with 1 Axes>"
      ]
     },
     "metadata": {},
     "output_type": "display_data"
    }
   ],
   "source": [
    "transistor_count2017 = transistor_count[year == 2017]\n",
    "print(\n",
    "    transistor_count2017.max(), transistor_count2017.min(), transistor_count2017.mean()\n",
    ")\n",
    "y = np.linspace(2016.5, 2017.5)\n",
    "your_model2017 = np.exp(B) * np.exp(A * y)\n",
    "Moore_Model2017 = Moores_law(y)\n",
    "\n",
    "plt.plot(\n",
    "    2017 * np.ones(np.sum(year == 2017)),\n",
    "    transistor_count2017,\n",
    "    \"ro\",\n",
    "    label=\"2017\",\n",
    "    alpha=0.2,\n",
    ")\n",
    "plt.plot(2017, transistor_count2017.mean(), \"g+\", markersize=20, mew=6)\n",
    "\n",
    "plt.plot(y, your_model2017, label=\"Your prediction\")\n",
    "plt.plot(y, Moore_Model2017, label=\"Moores law\")\n",
    "plt.ylabel(\"# of transistors\\nper microprocessor\")\n",
    "plt.legend()"
   ]
  },
  {
   "cell_type": "markdown",
   "id": "e196a190",
   "metadata": {},
   "source": [
    "The result is that your model is close to the mean, but Gordon\n",
    "Moore's prediction is closer to the maximum number of transistors per\n",
    "microprocessor produced in 2017. Even though semiconductor manufacturers\n",
    "thought that the growth would slow, once in 1975 and now again\n",
    "approaching 2025, manufacturers are still producing semiconductors every 2 years that\n",
    "nearly double the number of transistors.\n",
    "\n",
    "The linear regression model is much better at predicting the\n",
    "average than extreme values because it satisfies the condition to\n",
    "minimize $\\sum |y_i - A\\cdot \\text{year}[i]+B|^2$."
   ]
  },
  {
   "cell_type": "markdown",
   "id": "3e649fa6",
   "metadata": {},
   "source": [
    "## Sharing your results as zipped arrays and a csv\n",
    "\n",
    "The last step, is to share your findings. You created\n",
    "new arrays that represent a linear regression model and Gordon Moore's\n",
    "prediction. You started this process by importing a csv file into a NumPy\n",
    "array using `np.loadtxt`, to save your model use two approaches\n",
    "\n",
    "1. [`np.savez`](https://numpy.org/doc/stable/reference/generated/numpy.savez.html): save NumPy arrays for other Python sessions\n",
    "2. [`np.savetxt`](https://numpy.org/doc/stable/reference/generated/numpy.savetxt.html): save a csv file with the original data and your predicted data\n",
    "\n",
    "### Zipping the arrays into a file\n",
    "Using `np.savez`, you can save thousands of arrays and give them names. The\n",
    "function `np.load` will load the arrays back into the workspace as a\n",
    "dictionary. You'll save a five arrays so the next user will have the year,\n",
    "transistor count, predicted transistor count,  Gordon Moore's\n",
    "predicted count, and fitting constants. Add one more variable that other users can use to\n",
    "understand the model, `notes`."
   ]
  },
  {
   "cell_type": "code",
   "execution_count": 14,
   "id": "68ffd913",
   "metadata": {},
   "outputs": [
    {
     "name": "stdout",
     "output_type": "stream",
     "text": [
      "the arrays in this file are the result of a linear regression model\n",
      "the arrays include\n",
      "year: year of manufacture\n",
      "transistor_count: number of transistors reported by manufacturers in a given year\n",
      "transistor_count_predicted: linear regression model = exp(-666.33)*exp(0.34*year)\n",
      "transistor_Moores_law: Moores law =exp(-675.38)*exp(0.35*year)\n",
      "regression_csts: linear regression constants A and B for log(transistor_count)=A*year+B\n"
     ]
    }
   ],
   "source": [
    "notes = \"the arrays in this file are the result of a linear regression model\\n\"\n",
    "notes += \"the arrays include\\nyear: year of manufacture\\n\"\n",
    "notes += \"transistor_count: number of transistors reported by manufacturers in a given year\\n\"\n",
    "notes += \"transistor_count_predicted: linear regression model = exp({:.2f})*exp({:.2f}*year)\\n\".format(\n",
    "    B, A\n",
    ")\n",
    "notes += \"transistor_Moores_law: Moores law =exp({:.2f})*exp({:.2f}*year)\\n\".format(\n",
    "    B_M, A_M\n",
    ")\n",
    "notes += \"regression_csts: linear regression constants A and B for log(transistor_count)=A*year+B\"\n",
    "print(notes)"
   ]
  },
  {
   "cell_type": "code",
   "execution_count": 15,
   "id": "f98006aa",
   "metadata": {},
   "outputs": [],
   "source": [
    "np.savez(\n",
    "    \"mooreslaw_regression.npz\",\n",
    "    notes=notes,\n",
    "    year=year,\n",
    "    transistor_count=transistor_count,\n",
    "    transistor_count_predicted=transistor_count_predicted,\n",
    "    transistor_Moores_law=transistor_Moores_law,\n",
    "    regression_csts=(A, B),\n",
    ")"
   ]
  },
  {
   "cell_type": "code",
   "execution_count": 16,
   "id": "0d72f57f",
   "metadata": {},
   "outputs": [],
   "source": [
    "results = np.load(\"mooreslaw_regression.npz\")"
   ]
  },
  {
   "cell_type": "code",
   "execution_count": 17,
   "id": "b41d565c",
   "metadata": {},
   "outputs": [
    {
     "name": "stdout",
     "output_type": "stream",
     "text": [
      "-666.3264063536233\n"
     ]
    }
   ],
   "source": [
    "print(results[\"regression_csts\"][1])"
   ]
  },
  {
   "cell_type": "code",
   "execution_count": 18,
   "id": "cf67a9f5",
   "metadata": {},
   "outputs": [
    {
     "name": "stdout",
     "output_type": "stream",
     "text": [
      "air-quality-data.csv\r\n",
      "mooreslaw_regression.npz\r\n",
      "mooreslaw-tutorial.md\r\n",
      "pairing.md\r\n",
      "save-load-arrays.md\r\n",
      "_static\r\n",
      "text_preprocessing.py\r\n",
      "transistor_data.csv\r\n",
      "tutorial-air-quality-analysis.md\r\n",
      "tutorial-deep-learning-on-mnist.md\r\n",
      "tutorial-deep-reinforcement-learning-with-pong-from-pixels.md\r\n",
      "tutorial-ma.md\r\n",
      "tutorial-nlp-from-scratch\r\n",
      "tutorial-nlp-from-scratch.md\r\n",
      "tutorial-plotting-fractals\r\n",
      "tutorial-plotting-fractals.md\r\n",
      "tutorial-static_equilibrium.md\r\n",
      "tutorial-style-guide.md\r\n",
      "tutorial-svd.md\r\n",
      "tutorial-x-ray-image-processing\r\n",
      "tutorial-x-ray-image-processing.md\r\n",
      "who_covid_19_sit_rep_time_series.csv\r\n"
     ]
    }
   ],
   "source": [
    "! ls"
   ]
  },
  {
   "cell_type": "markdown",
   "id": "231a3228",
   "metadata": {},
   "source": [
    "The benefit of `np.savez` is you can save hundreds of arrays with\n",
    "different shapes and types. Here, you saved 4 arrays that are double\n",
    "precision floating point numbers shape = `(179,)`, one array that was\n",
    "text, and one array of double precision floating point numbers shape =\n",
    "`(2,).` This is the preferred method for saving NumPy arrays for use in\n",
    "another analysis.\n",
    "\n",
    "### Creating your own comma separated value file\n",
    "\n",
    "If you want to share data and view the results in a table, then you have to\n",
    "create a text file. Save the data using `np.savetxt`. This\n",
    "function is more limited than `np.savez`. Delimited files, like csv's,\n",
    "need 2D arrays.\n",
    "\n",
    "Prepare the data for export by creating a new 2D array whose columns\n",
    "contain the data of interest.\n",
    "\n",
    "Use the `header` option to describe the data and the columns of\n",
    "the file. Define another variable that contains file\n",
    "information as `head`."
   ]
  },
  {
   "cell_type": "code",
   "execution_count": 19,
   "id": "447d14e9",
   "metadata": {},
   "outputs": [
    {
     "name": "stdout",
     "output_type": "stream",
     "text": [
      "the columns in this file are the result of a linear regression model\n",
      "the columns include\n",
      "year: year of manufacture\n",
      "transistor_count: number of transistors reported by manufacturers in a given year\n",
      "transistor_count_predicted: linear regression model = exp(-666.33)*exp(0.34*year)\n",
      "transistor_Moores_law: Moores law =exp(-675.38)*exp(0.35*year)\n",
      "year:, transistor_count:, transistor_count_predicted:, transistor_Moores_law:\n"
     ]
    }
   ],
   "source": [
    "head = \"the columns in this file are the result of a linear regression model\\n\"\n",
    "head += \"the columns include\\nyear: year of manufacture\\n\"\n",
    "head += \"transistor_count: number of transistors reported by manufacturers in a given year\\n\"\n",
    "head += \"transistor_count_predicted: linear regression model = exp({:.2f})*exp({:.2f}*year)\\n\".format(\n",
    "    B, A\n",
    ")\n",
    "head += \"transistor_Moores_law: Moores law =exp({:.2f})*exp({:.2f}*year)\\n\".format(\n",
    "    B_M, A_M\n",
    ")\n",
    "head += \"year:, transistor_count:, transistor_count_predicted:, transistor_Moores_law:\"\n",
    "print(head)"
   ]
  },
  {
   "cell_type": "markdown",
   "id": "c36755f2",
   "metadata": {},
   "source": [
    "Build a single 2D array to export to csv. Tabular data is inherently two\n",
    "dimensional. You need to organize your data to fit this 2D structure.\n",
    "Use `year`, `transistor_count`, `transistor_count_predicted`, and\n",
    "`transistor_Moores_law` as the first through fourth columns,\n",
    "respectively. Put the calculated constants in the header since they do\n",
    "not fit the `(179,)` shape. The\n",
    "[`np.block`](https://numpy.org/doc/stable/reference/generated/numpy.block.html)\n",
    "function appends arrays together to create a new, larger array. Arrange\n",
    "the 1D vectors as columns using\n",
    "[`np.newaxis`](https://numpy.org/doc/stable/reference/constants.html)\n",
    "e.g.\n",
    "\n",
    "```python\n",
    ">>> year.shape\n",
    "(179,)\n",
    ">>> year[:,np.newaxis].shape\n",
    "(179,1)\n",
    "```"
   ]
  },
  {
   "cell_type": "code",
   "execution_count": 20,
   "id": "28a9f6e6",
   "metadata": {},
   "outputs": [],
   "source": [
    "output = np.block(\n",
    "    [\n",
    "        year[:, np.newaxis],\n",
    "        transistor_count[:, np.newaxis],\n",
    "        transistor_count_predicted[:, np.newaxis],\n",
    "        transistor_Moores_law[:, np.newaxis],\n",
    "    ]\n",
    ")"
   ]
  },
  {
   "cell_type": "markdown",
   "id": "134a8f74",
   "metadata": {},
   "source": [
    "Creating the `mooreslaw_regression.csv` with `np.savetxt`, use three\n",
    "options to create the desired file format:\n",
    "\n",
    "* `X = output` : use `output` block to write the data into the file\n",
    "* `delimiter = ','` : use commas to separate columns in the file\n",
    "* `header = head` : use the header `head` defined above"
   ]
  },
  {
   "cell_type": "code",
   "execution_count": 21,
   "id": "1e7336c8",
   "metadata": {},
   "outputs": [],
   "source": [
    "np.savetxt(\"mooreslaw_regression.csv\", X=output, delimiter=\",\", header=head)"
   ]
  },
  {
   "cell_type": "code",
   "execution_count": 22,
   "id": "7920b3a8",
   "metadata": {},
   "outputs": [
    {
     "name": "stdout",
     "output_type": "stream",
     "text": [
      "# the columns in this file are the result of a linear regression model\r\n",
      "# the columns include\r\n",
      "# year: year of manufacture\r\n",
      "# transistor_count: number of transistors reported by manufacturers in a given year\r\n",
      "# transistor_count_predicted: linear regression model = exp(-666.33)*exp(0.34*year)\r\n",
      "# transistor_Moores_law: Moores law =exp(-675.38)*exp(0.35*year)\r\n",
      "# year:, transistor_count:, transistor_count_predicted:, transistor_Moores_law:\r\n",
      "1.971000000000000000e+03,2.250000000000000000e+03,1.130514785642591505e+03,2.249999999999916326e+03\r\n",
      "1.972000000000000000e+03,3.500000000000000000e+03,1.590908400344571419e+03,3.181980515339620069e+03\r\n",
      "1.973000000000000000e+03,2.500000000000000000e+03,2.238793840142739100e+03,4.500000000000097316e+03\r\n"
     ]
    }
   ],
   "source": [
    "! head mooreslaw_regression.csv"
   ]
  },
  {
   "cell_type": "markdown",
   "id": "5f75e489",
   "metadata": {},
   "source": [
    "## Wrapping up\n",
    "\n",
    "In conclusion, you have compared historical data for semiconductor\n",
    "manufacturers to Moore's law and created a linear regression model to\n",
    "find the average number of transistors added to each microprocessor\n",
    "every two years. Gordon Moore predicted the number of transistors would\n",
    "double every two years from 1965 through 1975, but the average growth\n",
    "has maintained a consistent increase of $\\times 1.98 \\pm 0.01$ every two\n",
    "years from 1971 through 2019.  In 2015, Moore revised his prediction to\n",
    "say Moore's law should hold until 2025.\n",
    "[[2](https://spectrum.ieee.org/computing/hardware/gordon-moore-the-man-whose-name-means-progress)].\n",
    "You can share these results as a zipped NumPy array file,\n",
    "`mooreslaw_regression.npz`, or as another csv,\n",
    "`mooreslaw_regression.csv`.  The amazing progress in semiconductor\n",
    "manufacturing has enabled new industries and computational power. This\n",
    "analysis should give you a small insight into how incredible this growth\n",
    "has been over the last half-century."
   ]
  },
  {
   "cell_type": "markdown",
   "id": "4ecccab8",
   "metadata": {},
   "source": [
    "## References\n",
    "\n",
    "1. [\"Moore's Law.\" Wikipedia article. Accessed Oct. 1, 2020.](https://en.wikipedia.org/wiki/Moore%27s_law)\n",
    "2. [Courtland, Rachel. \"Gordon Moore: The Man Whose Name Means Progress.\" IEEE Spectrum. 30 Mar. 2015.](https://spectrum.ieee.org/computing/hardware/gordon-moore-the-man-whose-name-means-progress).\n",
    "3. [\"Transistor Count.\" Wikipedia article. Accessed Oct. 1, 2020.](https://en.wikipedia.org/wiki/Transistor_count#Microprocessors)"
   ]
  }
 ],
 "metadata": {
  "jupytext": {
   "text_representation": {
    "extension": ".md",
    "format_name": "myst",
    "format_version": 0.13,
    "jupytext_version": "1.11.1"
   }
  },
  "kernelspec": {
   "display_name": "Python 3",
   "language": "python",
   "name": "python3"
  },
  "language_info": {
   "codemirror_mode": {
    "name": "ipython",
    "version": 3
   },
   "file_extension": ".py",
   "mimetype": "text/x-python",
   "name": "python",
   "nbconvert_exporter": "python",
   "pygments_lexer": "ipython3",
   "version": "3.10.15"
  },
  "source_map": [
   12,
   49,
   52,
   70,
   111,
   115,
   121,
   126,
   145,
   147,
   161,
   163,
   175,
   181,
   194,
   196,
   220,
   222,
   230,
   233,
   237,
   239,
   250,
   252,
   279,
   288,
   305,
   339,
   361,
   374,
   394,
   408,
   420,
   424,
   428,
   430,
   453,
   465,
   486,
   495,
   504,
   508,
   510,
   530
  ]
 },
 "nbformat": 4,
 "nbformat_minor": 5
}