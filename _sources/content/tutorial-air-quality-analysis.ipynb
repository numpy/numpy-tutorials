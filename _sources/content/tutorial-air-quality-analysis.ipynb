{
 "cells": [
  {
   "cell_type": "markdown",
   "id": "5184eca0",
   "metadata": {},
   "source": [
    "# Analyzing the impact of the lockdown on air quality in Delhi, India\n",
    "\n",
    "![A grid showing the India Gate in smog above and clear air below](_static/11-delhi-aqi.jpg)\n",
    "\n",
    "## What you'll do\n",
    "\n",
    "Calculate Air Quality Indices (AQI) and perform paired Student's t-test on them.\n",
    "\n",
    "## What you'll learn\n",
    "\n",
    "- You'll learn the concept of moving averages\n",
    "\n",
    "- You'll learn how to calculate Air Quality Index (AQI)\n",
    "\n",
    "- You'll learn how to perform a paired Student's t-test and find the `t` and `p` values\n",
    "\n",
    "- You'll learn how to interpret these values\n",
    "\n",
    "\n",
    "## What you'll need\n",
    "\n",
    "- [SciPy](https://scipy.org/install/) installed in your environment\n",
    "\n",
    "- Basic understanding of statistical terms like population, sample, mean, standard deviation etc.\n",
    "\n",
    "\n",
    "***"
   ]
  },
  {
   "cell_type": "markdown",
   "id": "52396b28",
   "metadata": {},
   "source": [
    "## The problem of air pollution\n",
    "\n",
    "Air pollution is one of the most prominent types of pollution we face that has an immediate effect on our daily lives. The\n",
    "COVID-19 pandemic resulted in lockdowns in different parts of the world; offering a rare opportunity to study the effect of\n",
    "human activity (or lack thereof) on air pollution. In this tutorial, we will study the air quality in Delhi, one of the\n",
    "worst affected cities by air pollution, before and during the lockdown from March to June 2020. For this, we will first compute\n",
    "the Air Quality Index for each hour from the collected pollutant measurements. Next, we will sample these indices and perform\n",
    "a [paired Student's t-test](https://en.wikipedia.org/wiki/Student%27s_t-test#Dependent_t-test_for_paired_samples) on them. It will statistically show us that the air quality improved due to the lockdown, supporting our intuition.\n",
    "\n",
    "Let's start by importing the necessary libraries into our environment."
   ]
  },
  {
   "cell_type": "code",
   "execution_count": 1,
   "id": "be2c0e3f",
   "metadata": {},
   "outputs": [],
   "source": [
    "import numpy as np\n",
    "from numpy.random import default_rng\n",
    "from scipy import stats"
   ]
  },
  {
   "cell_type": "markdown",
   "id": "92f01d47",
   "metadata": {},
   "source": [
    "## Building the dataset\n",
    "\n",
    "We will use a condensed version of the [Air Quality Data in India](https://www.kaggle.com/rohanrao/air-quality-data-in-india) dataset. This dataset contains air quality data and AQI (Air Quality Index) at hourly and daily level of various stations across multiple cities in India. The condensed version available with this tutorial contains hourly pollutant measurements for Delhi\n",
    "from May 31, 2019 to June 30, 2020. It has measurements of the standard pollutants that are required for Air Quality Index calculation and a few other important ones:\n",
    "Particulate Matter (PM 2.5 and PM 10), nitrogen dioxide (NO2), ammonia (NH3), sulfur dioxide (SO2), carbon monoxide (CO), ozone (O3), oxides of nitrogen (NOx), nitric oxide (NO), benzene, toluene, and xylene.\n",
    "\n",
    "Let's print out the first few rows to have a glimpse of our dataset."
   ]
  },
  {
   "cell_type": "code",
   "execution_count": 2,
   "id": "b3f42165",
   "metadata": {},
   "outputs": [
    {
     "name": "stdout",
     "output_type": "stream",
     "text": [
      "Datetime,PM2.5,PM10,NO2,NH3,SO2,CO,O3,NOx,NO,Benzene,Toluene,Xylene\r\n",
      "2019-05-31 00:00:00,103.26,305.46,94.71,31.43,30.16,3.0,18.06,178.31,152.73,13.65,83.47,2.54\r\n",
      "2019-05-31 01:00:00,104.47,309.14,74.66,34.08,27.02,1.69,18.65,106.5,79.98,11.35,76.79,2.91\r\n",
      "2019-05-31 02:00:00,90.0,314.02,48.11,32.6,18.12,0.83,28.27,48.45,25.27,5.66,32.91,1.59\r\n",
      "2019-05-31 03:00:00,78.01,356.14,45.45,30.21,16.78,0.79,27.47,44.22,21.5,3.6,21.41,0.78\r\n",
      "2019-05-31 04:00:00,80.19,372.9,45.23,28.68,16.41,0.76,26.92,44.06,22.15,4.5,23.39,0.62\r\n",
      "2019-05-31 05:00:00,83.59,389.97,39.49,27.71,17.42,0.76,28.71,39.33,21.04,3.25,23.59,0.56\r\n",
      "2019-05-31 06:00:00,79.04,371.64,39.61,26.87,16.91,0.84,29.26,43.11,24.37,3.12,15.27,0.46\r\n",
      "2019-05-31 07:00:00,77.32,361.88,42.63,27.26,17.86,0.96,27.07,48.22,28.81,3.32,14.42,0.41\r\n",
      "2019-05-31 08:00:00,84.3,377.77,42.49,28.41,20.19,0.98,33.05,48.22,27.76,3.4,14.53,0.4\r\n"
     ]
    }
   ],
   "source": [
    "! head air-quality-data.csv"
   ]
  },
  {
   "cell_type": "markdown",
   "id": "dfe0c8c0",
   "metadata": {},
   "source": [
    "For the purpose of this tutorial, we are only concerned with standard pollutants required for calculating the AQI, viz., PM 2.5, PM 10, NO2, NH3, SO2, CO, and O3. So, we will only import these particular columns with [np.loadtxt](https://numpy.org/devdocs/reference/generated/numpy.loadtxt.html). We'll then [slice](https://numpy.org/devdocs/glossary.html#term-0) and create two sets: `pollutants_A` with PM 2.5, PM 10, NO2, NH3, and SO2, and `pollutants_B` with CO and O3. The\n",
    "two sets will be processed slightly differently, as we'll see later on."
   ]
  },
  {
   "cell_type": "code",
   "execution_count": 3,
   "id": "ab6e8e92",
   "metadata": {},
   "outputs": [
    {
     "name": "stdout",
     "output_type": "stream",
     "text": [
      "(9528, 5)\n",
      "(9528, 2)\n"
     ]
    }
   ],
   "source": [
    "pollutant_data = np.loadtxt(\"air-quality-data.csv\", dtype=float, delimiter=\",\",\n",
    "                            skiprows=1, usecols=range(1, 8))\n",
    "pollutants_A = pollutant_data[:, 0:5]\n",
    "pollutants_B = pollutant_data[:, 5:]\n",
    "\n",
    "print(pollutants_A.shape)\n",
    "print(pollutants_B.shape)"
   ]
  },
  {
   "cell_type": "markdown",
   "id": "48874375",
   "metadata": {},
   "source": [
    "Our dataset might contain missing values, denoted by `NaN`, so let's do a quick check with [np.isfinite](https://numpy.org/devdocs/reference/generated/numpy.isfinite.html)."
   ]
  },
  {
   "cell_type": "code",
   "execution_count": 4,
   "id": "7c347503",
   "metadata": {},
   "outputs": [
    {
     "data": {
      "text/plain": [
       "np.True_"
      ]
     },
     "execution_count": 4,
     "metadata": {},
     "output_type": "execute_result"
    }
   ],
   "source": [
    "np.all(np.isfinite(pollutant_data))"
   ]
  },
  {
   "cell_type": "markdown",
   "id": "95bf8373",
   "metadata": {},
   "source": [
    "With this, we have successfully imported the data and checked that it is complete. Let's move on to the AQI calculations!"
   ]
  },
  {
   "cell_type": "markdown",
   "id": "5fee0092",
   "metadata": {},
   "source": [
    "## Calculating the Air Quality Index\n",
    "\n",
    "\n",
    "We will calculate the AQI using [the method](https://app.cpcbccr.com/ccr_docs/FINAL-REPORT_AQI_.pdf) adopted by the [Central Pollution Control Board](https://www.cpcb.nic.in/national-air-quality-index) of India.  To summarize the steps:\n",
    "\n",
    "- Collect 24-hourly average concentration values for the standard pollutants; 8-hourly in case of CO and O3.\n",
    "\n",
    "\n",
    "- Calculate the sub-indices for these pollutants with the formula:\n",
    "\n",
    "\n",
    "    $$\n",
    "    Ip = \\dfrac{\\text{IHi – ILo}}{\\text{BPHi – BPLo}}\\cdot{\\text{Cp – BPLo}} + \\text{ILo}\n",
    "    $$\n",
    "\n",
    "\n",
    "    Where,\n",
    "\n",
    "    `Ip` = sub-index of pollutant `p`\\\n",
    "    `Cp` = averaged concentration of pollutant `p`\\\n",
    "    `BPHi` = concentration breakpoint i.e. greater than or equal to `Cp`\\\n",
    "    `BPLo` = concentration breakpoint i.e. less than or equal to `Cp`\\\n",
    "    `IHi` = AQI value corresponding to `BPHi`\\\n",
    "    `ILo` = AQI value corresponding to `BPLo`\n",
    "    \n",
    "\n",
    "- The maximum sub-index at any given time is the Air Quality Index.\n",
    "    \n",
    "The Air Quality Index is calculated with the help of breakpoint ranges as shown in the chart below.\n",
    "\n",
    "![Chart of the breakpoint ranges](_static/11-breakpoints.png)\n",
    "\n",
    "\n",
    "Let's create two arrays to store the AQI ranges and breakpoints so that we can use them later for our calculations."
   ]
  },
  {
   "cell_type": "code",
   "execution_count": 5,
   "id": "4e65be57",
   "metadata": {},
   "outputs": [],
   "source": [
    "AQI = np.array([0, 51, 101, 201, 301, 401, 501])\n",
    "\n",
    "breakpoints = {\n",
    "    'PM2.5': np.array([0, 31, 61, 91, 121, 251]),\n",
    "    'PM10': np.array([0, 51, 101, 251, 351, 431]),\n",
    "    'NO2': np.array([0, 41, 81, 181, 281, 401]),\n",
    "    'NH3': np.array([0, 201, 401, 801, 1201, 1801]),\n",
    "    'SO2': np.array([0, 41, 81, 381, 801, 1601]),\n",
    "    'CO': np.array([0, 1.1, 2.1, 10.1, 17.1, 35]),\n",
    "    'O3': np.array([0, 51, 101, 169, 209, 749])\n",
    "}"
   ]
  },
  {
   "cell_type": "markdown",
   "id": "4e5bd5b7",
   "metadata": {},
   "source": [
    "### Moving averages\n",
    "\n",
    "For the first step, we have to compute [moving averages](https://en.wikipedia.org/wiki/Moving_average) for `pollutants_A` over a window of 24 hours and `pollutants_B` over a\n",
    "window of 8 hours. We will write a simple function `moving_mean` using [np.cumsum](https://numpy.org/devdocs/reference/generated/numpy.cumsum.html) and [sliced indexing](https://numpy.org/devdocs/user/basics.indexing.html#slicing-and-striding) to achieve this.\n",
    "\n",
    "To make sure both the sets are of the same length, we will truncate the `pollutants_B_8hr_avg` according to the length of\n",
    "`pollutants_A_24hr_avg`. This will also ensure we have concentrations for all the pollutants over the same period of time."
   ]
  },
  {
   "cell_type": "code",
   "execution_count": 6,
   "id": "415ba3dd",
   "metadata": {},
   "outputs": [],
   "source": [
    "def moving_mean(a, n):\n",
    "    ret = np.cumsum(a, dtype=float, axis=0)\n",
    "    ret[n:] = ret[n:] - ret[:-n]\n",
    "    return ret[n - 1:] / n\n",
    "\n",
    "pollutants_A_24hr_avg = moving_mean(pollutants_A, 24)\n",
    "pollutants_B_8hr_avg = moving_mean(pollutants_B, 8)[-(pollutants_A_24hr_avg.shape[0]):]"
   ]
  },
  {
   "cell_type": "markdown",
   "id": "edec228c",
   "metadata": {},
   "source": [
    "Now, we can join both sets with [np.concatenate](https://numpy.org/devdocs/reference/generated/numpy.concatenate.html) to form a single data set of all the averaged concentrations. Note that we have to join our arrays column-wise so we pass the\n",
    "`axis=1` parameter."
   ]
  },
  {
   "cell_type": "code",
   "execution_count": 7,
   "id": "bd0f2c07",
   "metadata": {},
   "outputs": [],
   "source": [
    "pollutants = np.concatenate((pollutants_A_24hr_avg, pollutants_B_8hr_avg), axis=1)"
   ]
  },
  {
   "cell_type": "markdown",
   "id": "14886f0c",
   "metadata": {},
   "source": [
    "### Sub-indices\n",
    "\n",
    "The subindices for each pollutant are calculated according to the linear relationship between the AQI and standard breakpoint ranges with the formula as above: \n",
    "\n",
    "$$\n",
    "Ip = \\dfrac{\\text{IHi – ILo}}{\\text{BPHi – BPLo}}\\cdot{\\text{Cp – BPLo}} + \\text{ILo}\n",
    "$$\n",
    "\n",
    "The `compute_indices` function first fetches the correct upper and lower bounds of AQI categories and breakpoint concentrations for the input concentration and pollutant with the help of arrays `AQI` and `breakpoints` we created above. Then, it feeds these values into the formula to calculate the sub-index."
   ]
  },
  {
   "cell_type": "code",
   "execution_count": 8,
   "id": "0a4a7332",
   "metadata": {},
   "outputs": [],
   "source": [
    "def compute_indices(pol, con):\n",
    "    bp = breakpoints[pol]\n",
    "    \n",
    "    if pol == 'CO':\n",
    "        inc = 0.1\n",
    "    else:\n",
    "        inc = 1\n",
    "    \n",
    "    if bp[0] <= con < bp[1]:\n",
    "        Bl = bp[0]\n",
    "        Bh = bp[1] - inc\n",
    "        Ih = AQI[1] - inc\n",
    "        Il = AQI[0]\n",
    "\n",
    "    elif bp[1] <= con < bp[2]:\n",
    "        Bl = bp[1]\n",
    "        Bh = bp[2] - inc\n",
    "        Ih = AQI[2] - inc\n",
    "        Il = AQI[1]\n",
    "\n",
    "    elif bp[2] <= con < bp[3]:\n",
    "        Bl = bp[2]\n",
    "        Bh = bp[3] - inc\n",
    "        Ih = AQI[3] - inc\n",
    "        Il = AQI[2]\n",
    "\n",
    "    elif bp[3] <= con < bp[4]:\n",
    "        Bl = bp[3]\n",
    "        Bh = bp[4] - inc\n",
    "        Ih = AQI[4] - inc\n",
    "        Il = AQI[3]\n",
    "\n",
    "    elif bp[4] <= con < bp[5]:\n",
    "        Bl = bp[4]\n",
    "        Bh = bp[5] - inc\n",
    "        Ih = AQI[5] - inc\n",
    "        Il = AQI[4]\n",
    "\n",
    "    elif bp[5] <= con:\n",
    "        Bl = bp[5]\n",
    "        Bh = bp[5] + bp[4] - (2 * inc)\n",
    "        Ih = AQI[6]\n",
    "        Il = AQI[5]\n",
    "\n",
    "    else:\n",
    "        print(\"Concentration out of range!\")\n",
    "        \n",
    "    return ((Ih - Il) / (Bh - Bl)) * (con - Bl) + Il"
   ]
  },
  {
   "cell_type": "markdown",
   "id": "45222512",
   "metadata": {},
   "source": [
    "We will use [np.vectorize](https://numpy.org/devdocs/reference/generated/numpy.vectorize.html) to utilize the concept of vectorization. This simply means we don't have loop over each element of the pollutant array ourselves. [Vectorization](https://numpy.org/devdocs/user/whatisnumpy.html#why-is-numpy-fast) is one of the key advantages of NumPy."
   ]
  },
  {
   "cell_type": "code",
   "execution_count": 9,
   "id": "cfba51ab",
   "metadata": {},
   "outputs": [],
   "source": [
    "vcompute_indices = np.vectorize(compute_indices)"
   ]
  },
  {
   "cell_type": "markdown",
   "id": "85b2b2ff",
   "metadata": {},
   "source": [
    "By calling our vectorized function `vcompute_indices` for each pollutant, we get the sub-indices. To get back an array with the original shape, we use [np.stack](https://numpy.org/devdocs/reference/generated/numpy.stack.html)."
   ]
  },
  {
   "cell_type": "code",
   "execution_count": 10,
   "id": "3c0871c9",
   "metadata": {},
   "outputs": [],
   "source": [
    "sub_indices = np.stack((vcompute_indices('PM2.5', pollutants[..., 0]),\n",
    "                        vcompute_indices('PM10', pollutants[..., 1]),\n",
    "                        vcompute_indices('NO2', pollutants[..., 2]),\n",
    "                        vcompute_indices('NH3', pollutants[..., 3]),\n",
    "                        vcompute_indices('SO2', pollutants[..., 4]),\n",
    "                        vcompute_indices('CO', pollutants[..., 5]),\n",
    "                        vcompute_indices('O3', pollutants[..., 6])), axis=1)"
   ]
  },
  {
   "cell_type": "markdown",
   "id": "7018f935",
   "metadata": {},
   "source": [
    "### Air quality indices\n",
    "\n",
    "Using [np.max](https://numpy.org/devdocs/reference/generated/numpy.maximum.html), we find out the maximum sub-index for each period, which is our Air Quality Index!"
   ]
  },
  {
   "cell_type": "code",
   "execution_count": 11,
   "id": "d2c7f214",
   "metadata": {},
   "outputs": [],
   "source": [
    "aqi_array = np.max(sub_indices, axis=1)"
   ]
  },
  {
   "cell_type": "markdown",
   "id": "25959e4a",
   "metadata": {},
   "source": [
    "With this, we have the AQI for every hour from June 1, 2019 to June 30, 2020. Note that even though we started out with\n",
    "the data from 31st May, we truncated that during the moving averages step."
   ]
  },
  {
   "cell_type": "markdown",
   "id": "665cd94d",
   "metadata": {},
   "source": [
    "## Paired Student's t-test on the AQIs\n",
    "\n",
    "Hypothesis testing is a form of descriptive statistics used to help us make decisions with the data. From the calculated AQI data, we want to find out if there was a statistically significant difference in average AQI before and after the lockdown was imposed. We will use the left-tailed, [paired Student's t-test](https://en.wikipedia.org/wiki/Student%27s_t-test#Dependent_t-test_for_paired_samples) to compute two test statistics- the [`t statistic`](https://en.wikipedia.org/wiki/T-statistic) and the [`p value`](https://en.wikipedia.org/wiki/P-value). We will then compare these with the corresponding critical values to make a decision.\n",
    "\n",
    "![Normal distribution plot showing area of rejection in one-tailed test (left tailed)](_static/11-one-tailed-test.svg)\n",
    "\n",
    "### Sampling\n",
    "\n",
    "We will now import the `datetime` column from our original dataset into a [*datetime64* dtype](https://numpy.org/devdocs/reference/arrays.scalars.html) array. We will use this array to index the AQI array and obtain subsets of the dataset."
   ]
  },
  {
   "cell_type": "code",
   "execution_count": 12,
   "id": "e6e7f6c8",
   "metadata": {},
   "outputs": [],
   "source": [
    "datetime = np.loadtxt(\"air-quality-data.csv\", dtype='M8[h]', delimiter=\",\",\n",
    "                         skiprows=1, usecols=(0, ))[-(pollutants_A_24hr_avg.shape[0]):]"
   ]
  },
  {
   "cell_type": "markdown",
   "id": "68ae5ec0",
   "metadata": {},
   "source": [
    "Since total lockdown commenced in Delhi from March 24, 2020, the after-lockdown subset is of the period March 24, 2020 to June 30, 2020. The before-lockdown subset is for the same length of time before 24th March."
   ]
  },
  {
   "cell_type": "code",
   "execution_count": 13,
   "id": "3cc7be02",
   "metadata": {},
   "outputs": [
    {
     "name": "stdout",
     "output_type": "stream",
     "text": [
      "(2376,)\n",
      "(2376,)\n"
     ]
    }
   ],
   "source": [
    "after_lock = aqi_array[np.where(datetime >= np.datetime64('2020-03-24T00'))]\n",
    "\n",
    "before_lock = aqi_array[np.where(datetime <= np.datetime64('2020-03-21T00'))][-(after_lock.shape[0]):]\n",
    "\n",
    "print(after_lock.shape)\n",
    "print(before_lock.shape)"
   ]
  },
  {
   "cell_type": "markdown",
   "id": "9a00eece",
   "metadata": {},
   "source": [
    "To make sure our samples are *approximately* normally distributed, we take samples of size `n = 30`. `before_sample` and `after_sample` are the set of random observations drawn before and after the total lockdown. We use [random.Generator.choice](https://numpy.org/devdocs/reference/random/generated/numpy.random.Generator.choice.html) to generate the samples."
   ]
  },
  {
   "cell_type": "code",
   "execution_count": 14,
   "id": "cf049aad",
   "metadata": {},
   "outputs": [],
   "source": [
    "rng = default_rng()\n",
    "\n",
    "before_sample = rng.choice(before_lock, size=30, replace=False)\n",
    "after_sample = rng.choice(after_lock, size=30, replace=False)"
   ]
  },
  {
   "cell_type": "markdown",
   "id": "a12c45eb",
   "metadata": {},
   "source": [
    "### Defining the hypothesis\n",
    "\n",
    "Let us assume that there is no significant difference between the sample means before and after the lockdown. This will be the null hypothesis. The alternative hypothesis would be that there *is* a significant difference between the means and the AQI *improved*. Mathematically,\n",
    "\n",
    "$H_{0}: \\mu_\\text{after-before} = 0$ \\\n",
    "$H_{a}: \\mu_\\text{after-before} < 0$"
   ]
  },
  {
   "cell_type": "markdown",
   "id": "ca46d230",
   "metadata": {},
   "source": [
    "### Calculating the test statistics\n",
    "\n",
    "We will use the `t` statistic to evaluate our hypothesis and even calculate the `p value` from it. The formula for the `t` statistic is:\n",
    "\n",
    "$$\n",
    "t = \\frac{\\mu_\\text{after-before}}{\\sqrt{\\sigma^{2}/n}}\n",
    "$$\n",
    "\n",
    "where,\n",
    "\n",
    "$\\mu_\\text{after-before}$ = mean differences of samples \\\n",
    "$\\sigma^{2}$ = variance of mean differences \\\n",
    "$n$ = sample size"
   ]
  },
  {
   "cell_type": "code",
   "execution_count": 15,
   "id": "9522dd82",
   "metadata": {},
   "outputs": [],
   "source": [
    "def t_test(x, y):\n",
    "    diff = y - x\n",
    "    var = np.var(diff, ddof=1)\n",
    "    num = np.mean(diff)\n",
    "    denom = np.sqrt(var / len(x))\n",
    "    return np.divide(num, denom)\n",
    "\n",
    "t_value = t_test(before_sample, after_sample)"
   ]
  },
  {
   "cell_type": "markdown",
   "id": "ba616aec",
   "metadata": {},
   "source": [
    "For the `p` value, we will use SciPy's `stats.distributions.t.cdf()` function. It takes two arguments- the `t statistic` and the degrees of freedom (`dof`). The formula for `dof` is `n - 1`."
   ]
  },
  {
   "cell_type": "code",
   "execution_count": 16,
   "id": "f77cd63c",
   "metadata": {},
   "outputs": [
    {
     "name": "stdout",
     "output_type": "stream",
     "text": [
      "The t value is -6.778550885412477 and the p value is 9.648125019613442e-08.\n"
     ]
    }
   ],
   "source": [
    "dof = len(before_sample) - 1\n",
    "\n",
    "p_value = stats.distributions.t.cdf(t_value, dof)\n",
    "\n",
    "print(\"The t value is {} and the p value is {}.\".format(t_value, p_value))"
   ]
  },
  {
   "cell_type": "markdown",
   "id": "acf87010",
   "metadata": {},
   "source": [
    "## What do the `t` and `p` values mean?\n",
    "\n",
    "We will now compare the calculated test statistics with the critical test statistics. The critical `t` value is calculated by looking up the [t-distribution table](https://en.wikipedia.org/wiki/Student%27s_t-distribution#Table_of_selected_values).\n",
    "\n",
    "![Table of selected t values at different confidence levels. T value for 29 dof at 95% confidence level is highlighted with a yellow square](_static/11-t-table.png)\n",
    "\n",
    "From the table above, the critical value is 1.699 for 29 `dof` at a confidence level of 95%. Since we are using the left tailed test, our critical value is -1.699. Clearly, the calculated `t` value is less than the critical value so we can safely reject the null hypothesis.\n",
    "\n",
    "The critical `p` value, denoted by $\\alpha$, is usually chosen to be 0.05, corresponding to a confidence level of 95%. If the calculated `p` value is less than $\\alpha$, then the null hypothesis can be safely rejected. Clearly, our `p` value is much less than $\\alpha$, so we can reject the null hypothesis.\n",
    "\n",
    "Note that this does not mean we can accept the alternative hypothesis. It only tells us that there is not enough evidence to reject $H_{a}$. In other words, we fail to reject the alternative hypothesis so, it *may* be true."
   ]
  },
  {
   "cell_type": "markdown",
   "id": "520913d6",
   "metadata": {},
   "source": [
    "***\n",
    "\n",
    "## In practice...\n",
    "\n",
    "- The [pandas](https://pandas.pydata.org/) library is preferable to use for time-series data analysis.\n",
    "\n",
    "- The SciPy stats module provides the [stats.ttest_rel](https://docs.scipy.org/doc/scipy/reference/generated/scipy.stats.ttest_rel.html) function which can be used to get the `t statistic` and `p value`.\n",
    "\n",
    "- In real life, data are generally not normally distributed. There are tests for such non-normal data like the [Wilcoxon test](https://en.wikipedia.org/wiki/Wilcoxon_signed-rank_test).\n",
    "\n",
    "## Further reading\n",
    "\n",
    "- There are a host of statistical tests you can choose according to the characteristics of the given data. Read more about them at\n",
    "[A Gentle Introduction to Statistical Data Distributions](https://machinelearningmastery.com/statistical-data-distributions/).\n",
    "\n",
    "- There are various versions of the [Student's t-test](https://en.wikipedia.org/wiki/Student%27s_t-test) that you can adopt according to your needs."
   ]
  }
 ],
 "metadata": {
  "jupytext": {
   "formats": "ipynb,md:myst",
   "text_representation": {
    "extension": ".md",
    "format_name": "myst",
    "format_version": 0.13,
    "jupytext_version": "1.11.5"
   }
  },
  "kernelspec": {
   "display_name": "Python 3 (ipykernel)",
   "language": "python",
   "name": "python3"
  },
  "language_info": {
   "codemirror_mode": {
    "name": "ipython",
    "version": 3
   },
   "file_extension": ".py",
   "mimetype": "text/x-python",
   "name": "python",
   "nbconvert_exporter": "python",
   "pygments_lexer": "ipython3",
   "version": "3.10.15"
  },
  "source_map": [
   13,
   43,
   56,
   60,
   70,
   72,
   77,
   85,
   89,
   91,
   95,
   132,
   144,
   154,
   162,
   167,
   169,
   181,
   230,
   234,
   236,
   240,
   248,
   254,
   256,
   261,
   273,
   276,
   280,
   287,
   291,
   296,
   305,
   321,
   330,
   334,
   340,
   354
  ]
 },
 "nbformat": 4,
 "nbformat_minor": 5
}