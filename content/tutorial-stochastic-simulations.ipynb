{
 "cells": [
  {
   "cell_type": "markdown",
   "id": "2931e270-7884-4521-928c-65fa5ca36d60",
   "metadata": {},
   "source": [
    "# Simulating Using Random Variables\n",
    "\n",
    "Randomness, or apparent randomness, is a major part of the world we live from the movement of gas molecules in the air we breath to the outcome of a coin toss. While many events are not truely random, they are often close enough to random or seemingly random enough to be simulated as such. Despite many processes being random, their outcomes often conform to a statistical pattern if enough of these random events occur. For example, if we roll a six-sided die over a large number of rolls, we expect to roll a 5 about $\\frac{1}{6}$ of the time. As a general rule, the larger the number of random events observed, the closer the distribution of these events will *likely* be to the expected disbribution. In this tutorial, we will use a random number generator provided in NumPy to solve a number of problems through stochastic simulations. While the problems demonstrated below all have know solutions or equations, you may face other problems that do not have an analytical model or known solution. The methodology demonstrated below can be used to solve problems when no known solution or model exists. \n",
    "\n",
    "## What you'll do\n",
    "- Generate random values using NumPy to power stochastic simulations\n",
    "- Perform stochastic simulations to determine the\n",
    "    - Likelyhood of multiple children in a classroom of 25 having the same birthday\n",
    "    - Distribution of marbles in a Galton board\n",
    "    - Value of $\\pi$\n",
    "    - Amount of radioactive material left versus time\n",
    "- Compare the above simulations to known values or an analytical model\n",
    "\n",
    "## What you'll learn:\n",
    "- Generating large quantites of random values in a desired distribution\n",
    "- Using random values to simulation a range of scenarios and solve problems\n",
    "\n",
    "## What you'll need:\n",
    "- [NumPy](https://numpy.org/)\n",
    "- [Matplotlib](https://matplotlib.org/)\n",
    "- Python's `math` module\n",
    "\n",
    "The above two packages are imported using the following commands:"
   ]
  },
  {
   "cell_type": "code",
   "execution_count": 1,
   "id": "50324dde-32fe-44b1-b15f-bce368ce16ca",
   "metadata": {},
   "outputs": [],
   "source": [
    "import numpy as np\n",
    "import matplotlib.pyplot as plt\n",
    "import math"
   ]
  },
  {
   "cell_type": "markdown",
   "id": "70b2a718-ba0c-4ed3-8a5d-4a7bd90f45c8",
   "metadata": {},
   "source": [
    "## Generating random variables\n",
    "\n",
    "NumPy can generate random variables using a Generator from the `np.random` module. While these values are not truely random, they are close enough for the following applications. One of the advantages of using NumPy to generate variables over the standard `random` Python module is that NumPy can generate a large number of random variables efficiently without the use of a `for` loop. These variables can be generated in a variety of probability distribution including normal, poisson, and binomial; but for the following simulations, we will mostly use even distributions where all numbers in the range have an equal likelyhood of being generated. This is accomplished by first creating a Generator using the `np.random.default_rng()` function and then using `random(n)` or `np.integers(low, high=, size=n)` methods with the Generator to produce random values where `n` is the number of random values returned. Below are some common methods for generating random values.\n",
    "\n",
    "| Method  | Description |\n",
    "|-----------|-------------|\n",
    "|`random(n)`| Generates `n` float values in the [0,1) range with an even distribution |\n",
    "|`integers(low, high=, size=)`| Generates `size` integers in the requested range [low, high) in a uniform distribution|\n",
    "|`normal(loc, scale=, size=)`| Generates `size` floats in a normal distribution centered on `loc` with a `scale` standard deviation|\n",
    "|`binomial(t, p, size=)`| Generates `size` integers in a bionimial distribution with `t` trials for each value with a probability `p`|\n",
    "|`choice(a, size=)`| Selects `size` elements from `a` list, tuple or ndarray with an even probability |\n",
    "|`shuffle(a)`| Shuffles items in list, tubple, or ndarray `a` |"
   ]
  },
  {
   "cell_type": "code",
   "execution_count": 2,
   "id": "8a3c0c28-f9bf-466d-8522-a38e11488499",
   "metadata": {},
   "outputs": [
    {
     "data": {
      "text/plain": [
       "array([0.39930577, 0.71741468, 0.28082333, 0.08272492, 0.96977132,\n",
       "       0.56392675, 0.64432096, 0.57687146, 0.47536097, 0.12240199])"
      ]
     },
     "execution_count": 2,
     "metadata": {},
     "output_type": "execute_result"
    }
   ],
   "source": [
    "rng = np.random.default_rng(seed=18)\n",
    "rng.random(10)"
   ]
  },
  {
   "cell_type": "markdown",
   "id": "a59b2279-3f9f-4874-9754-aa1e031634cf",
   "metadata": {},
   "source": [
    "You may have guessed by looking at the returned values that `random()` produces values in the 0 $\\rightarrow$ 1 range, but what happens if we need values in a different range? We can modify these values by mutiplying them by a coefficient to increase the range and using addition or substration to shift the center of the range. For example, if we need random values from -10 $\\rightarrow$ +10, we can accomplish this by the following."
   ]
  },
  {
   "cell_type": "code",
   "execution_count": 3,
   "id": "f6cbfb8d-b153-494b-9532-c657b8fe461b",
   "metadata": {},
   "outputs": [
    {
     "data": {
      "text/plain": [
       "array([-3.72807758,  4.72417165,  8.14778066,  7.7720389 ,  8.96641764,\n",
       "       -9.49192157,  4.7607717 ,  3.45200153,  2.50375281,  2.75248376])"
      ]
     },
     "execution_count": 3,
     "metadata": {},
     "output_type": "execute_result"
    }
   ],
   "source": [
    "20 * rng.random(10) - 10"
   ]
  },
  {
   "cell_type": "markdown",
   "id": "cdc9a16c-6d94-449c-8a41-1dbbb30b649a",
   "metadata": {},
   "source": [
    "It's worth noting that the `random()` method returns values from the [0,1) range which includes the lower end and excludes the upper end. This is close enough to [0,1] for our purposes."
   ]
  },
  {
   "cell_type": "markdown",
   "id": "b915dba8-48d1-4dde-b3bd-4f048502f78e",
   "metadata": {},
   "source": [
    "## Solving the birthday problem\n",
    "\n",
    "The goal of the [birthday problem](https://en.wikipedia.org/wiki/Birthday_problem) is to determine the probability of multiple children in a classroom of 25 students having the same birthday. For simiplicity, we will ignore leap years (i.e., February 29 birthdays) and assume that the students are equilly likely to be born any day of the year. One method of determining the answer is to repeately simulate a classroom of 25 student birthdays by using a random number generator and see how often all students in the class have unique birthdays. The general steps for this processes are outlined below. \n",
    "\n",
    "1. Simulate 25 random birthdays with a random integer generator\n",
    "2. Check to see if any of the above birthdays match\n",
    "3. Record the outcome if all birthdays are unique\n",
    "4. Repeat setps 1-3 a large number of times\n",
    "\n",
    "To make things easier, we will just generate integers 0 $\\rightarrow$ 364 representating days of the year instead of actual months and days."
   ]
  },
  {
   "cell_type": "code",
   "execution_count": 4,
   "id": "36e6f902-5218-4975-a625-7a54a05fe03b",
   "metadata": {},
   "outputs": [],
   "source": [
    "def all_unique(class_size, n_classrooms=100):\n",
    "    '''Randomly generates birthdays for groups of kids of a given group size and outputs the percent of time\n",
    "   all students have uniquie birthdays. All input and output values are ints or floats.\n",
    "    \n",
    "    (classroom size, number of classrooms) -> percentage classrooms with all unique birthdays\n",
    "    '''\n",
    "    \n",
    "    all_unique_class = 0  # number of classrooms with students NOT sharing birthdays\n",
    "    \n",
    "    for classroom in range(n_classrooms):\n",
    "        birthdays = rng.integers(0, high=365, size=class_size)\n",
    "        if class_size == np.unique(birthdays).size:\n",
    "            all_unique_class += 1\n",
    "    \n",
    "    return 100 * all_unique_class / n_classrooms"
   ]
  },
  {
   "cell_type": "markdown",
   "id": "45763a5f-887f-4a4b-a5d2-a6a04cb52fcc",
   "metadata": {},
   "source": [
    "Below we simulate 50000 classrooms of 25 students and find that only around 43% of the time every student in a classroom has a unique birthday from all the other students."
   ]
  },
  {
   "cell_type": "code",
   "execution_count": 5,
   "id": "7c77811a-d825-4f52-8161-f037427c72f9",
   "metadata": {},
   "outputs": [
    {
     "data": {
      "text/plain": [
       "43.286"
      ]
     },
     "execution_count": 5,
     "metadata": {},
     "output_type": "execute_result"
    }
   ],
   "source": [
    "all_unique(25, n_classrooms=50000)"
   ]
  },
  {
   "cell_type": "markdown",
   "id": "dc951c53-4e08-41e0-b54b-1b88e0ad1061",
   "metadata": {},
   "source": [
    "This problem also has an equation for the probability given below where **p** is the probability of all students having a unique birthday and **n** is the classroom size. Performing this calculation below, we find that 43.13% of the time, students should have all unique birthdays which is quite close to what was found in the simulation above.\n",
    "\n",
    "$$ p = \\frac {365!}{365^n(365-n)!} $$"
   ]
  },
  {
   "cell_type": "code",
   "execution_count": 6,
   "id": "c95b4fcc-45a0-4925-91fb-39d3469615b9",
   "metadata": {},
   "outputs": [
    {
     "data": {
      "text/plain": [
       "0.4313002960305361"
      ]
     },
     "execution_count": 6,
     "metadata": {},
     "output_type": "execute_result"
    }
   ],
   "source": [
    "n = 25\n",
    "math.factorial(365)/(365**n * math.factorial(365-n))"
   ]
  },
  {
   "cell_type": "markdown",
   "id": "5a18ddfb-e49f-44b5-ac98-c1e9512e15ad",
   "metadata": {},
   "source": [
    "## Simulating a Galton board\n",
    "\n",
    "Next, we will simulate a [Galton board](https://en.wikipedia.org/wiki/Galton_board) which allows mables to fall down levels of staggered pegs. Each marble starts in the horizontal center of the board, and at each level, the marble hits a peg. To continue falling to the next level, the marble must move around the peg, and it has an equal likeliness of moving to the left as it does to the right. At the bottom of the board, the marbles collect in bins with the height of marbles yielding a normal distribution."
   ]
  },
  {
   "cell_type": "markdown",
   "id": "2a0bb53d-71bb-4d70-a308-2f49f1d099ea",
   "metadata": {},
   "source": [
    "![](tutorial-stochastic/galton_board.png)"
   ]
  },
  {
   "cell_type": "markdown",
   "id": "745bf65b-30c0-4ffb-a4ba-5ccae89d9805",
   "metadata": {},
   "source": [
    "**Figure 1.** An example of a Galton board with three marbles with three different potential paths (dotted lines) shown.\n",
    "\n",
    "The key operational detail of a Galton board is that every marble moves one increment to the left or right at each level, so our simulation centers around a series of randomly generated +1 and -1 to determine this movement by the following methodolog.\n",
    "1. Generate a random series of +1 and -1 in an even distribution - one value for every level on the Galton board\n",
    "2. Sum up the values in step 1 to determine the final location of the mable\n",
    "3. Repeat steps 1-2 for each simulated marble\n",
    "4. Visualize the result\n",
    "\n",
    "Below is the simulation for a single marble moving down a 10-layered Galton board. Note how the integers 0 and 1 generated by `integers()` and converted to a series of -1 and +1 values, respectively."
   ]
  },
  {
   "cell_type": "code",
   "execution_count": 7,
   "id": "32ce5473-354f-494a-85eb-68054974a2ea",
   "metadata": {},
   "outputs": [
    {
     "data": {
      "text/plain": [
       "4"
      ]
     },
     "execution_count": 7,
     "metadata": {},
     "output_type": "execute_result"
    }
   ],
   "source": [
    "moves = 2 * rng.integers(0, high=2, size=10) - 1\n",
    "final_position = moves.sum()\n",
    "final_position"
   ]
  },
  {
   "cell_type": "markdown",
   "id": "ec34bc52-8270-42bb-8503-cbddfe2d8b25",
   "metadata": {},
   "source": [
    "To simulate additional marbles, we could use a `for` loop, but because we need the same number of integers for each marble, a more efficient way is to generate the random integers in a two-dimensional array with a row for every level on the Galton board and column for every marble simulated. We then sum up the values in each column to obtain the final positions of all marbles."
   ]
  },
  {
   "cell_type": "code",
   "execution_count": 8,
   "id": "5b9fa1dd-d9db-4511-98e3-faa61a0cbff0",
   "metadata": {},
   "outputs": [],
   "source": [
    "def galton(marbles, levels=10):\n",
    "    '''integer -> ndarray of integers\n",
    "\n",
    "    This function takes in an integer number of marbles and number of levels and outputs \n",
    "    the horizontal position of these marbles at the bottom of a Galton board. \n",
    "    '''\n",
    "    moves = 2 * rng.integers(0, high=2, size=(levels, marbles)) - 1\n",
    "    final_position = moves.sum(axis=0)\n",
    "    \n",
    "    return final_position"
   ]
  },
  {
   "cell_type": "code",
   "execution_count": 9,
   "id": "d2b772e2-61f8-46f6-90e7-94a553837ac6",
   "metadata": {},
   "outputs": [
    {
     "data": {
      "text/plain": [
       "array([ 0, -2, -2,  2,  4, -4, -4, -2,  2,  2,  0, -2,  4,  0,  4, -4,  0,\n",
       "       -8,  2,  2])"
      ]
     },
     "execution_count": 9,
     "metadata": {},
     "output_type": "execute_result"
    }
   ],
   "source": [
    "sim = galton(1200)\n",
    "sim[:20]"
   ]
  },
  {
   "cell_type": "markdown",
   "id": "693e2121-9fe7-428b-b284-654654a990ac",
   "metadata": {},
   "source": [
    "We visualize the results below using a histogram plot. Being that all values are integers, we set `align='left'` so that each bar resides directly over the integer it represents."
   ]
  },
  {
   "cell_type": "code",
   "execution_count": 10,
   "id": "8c5d4ff6-4238-4283-9b49-e2fdfc52dcab",
   "metadata": {},
   "outputs": [
    {
     "data": {
      "image/png": "[encoded data removed]",
      "text/plain": [
       "<Figure size 640x480 with 1 Axes>"
      ]
     },
     "metadata": {},
     "output_type": "display_data"
    }
   ],
   "source": [
    "bins = np.arange(-10,12)\n",
    "plt.hist(sim, bins=bins, align='left')\n",
    "plt.xticks(bins[::2])\n",
    "plt.xlabel('Horizontal Marble Position')\n",
    "plt.ylabel('Number of Marbles');"
   ]
  },
  {
   "cell_type": "markdown",
   "id": "3b1ed737-e851-4272-b706-67fbb91f5a63",
   "metadata": {},
   "source": [
    "One interesting trend that appears in the above histogram is that all locations are integers. This is because we used whole numbers for our left and right movements of marbles (i.e., +1 and -1) and used ten layers in the above simulation. There is no way to produce an odd integer by totaling a series of ten +1 or -1 integers. If we changed the number of layers to an odd number, we'd only get odd positions in the result, and if we used +1/2 and -1/2 for our horizontal movement, we'd get both even and odd integers."
   ]
  },
  {
   "cell_type": "markdown",
   "id": "7152df76-78b5-47fa-9f76-276c7e497cb7",
   "metadata": {},
   "source": [
    "## Calculating pi\n",
    "\n",
    "As a second appliation of random number generaters, we will calclate a numerical value for $\\pi$. Imagine a circle with radius = $r$ inscribed inside a square of side length $2r$. "
   ]
  },
  {
   "cell_type": "markdown",
   "id": "65166f10-9009-4551-a14f-8205dc3b858c",
   "metadata": {},
   "source": [
    "![](tutorial-stochastic/circle_square.png)"
   ]
  },
  {
   "cell_type": "markdown",
   "id": "88d705e8-b983-4aa2-b35b-ccb13c9aaa6a",
   "metadata": {
    "editable": true,
    "slideshow": {
     "slide_type": ""
    },
    "tags": []
   },
   "source": [
    "**Figure 2.** The circle radius r inscribed in a square with side length of 2r.\n",
    "\n",
    "The areas of the circle and square are described by $A\n",
    "_{circle} = \\pi r^2$ and $A_{square} = 4r^2$, respectively. If we divide the area of the circle by the area of the square, we get $\\pi / 4$.\n",
    "\n",
    "$$ \\frac { A_{circle} }{ A_{square} } = \\frac {\\pi r^2} {(2r)^2} = \\frac {\\pi r^2} {4r^2} = \\frac {\\pi}{4} $$\n",
    "\n",
    "This means that four times the ratio of the area of the circle and square equals $\\pi$.\n",
    "\n",
    "$$ \\frac { A_{circle} }{ A_{square}} \\times 4 = \\pi $$\n",
    "\n",
    "The challenge is now finding the ratio between the areas of the two shapes which can be done through a variety of creative means. Our method will be counting randomly placed dots. Imagine we painted the circle inscribed in a square on pavement outside and count the water droplets that fall in the circle and square during a rain storm."
   ]
  },
  {
   "cell_type": "markdown",
   "id": "7571b83c-e163-42b0-8329-f494045790a8",
   "metadata": {},
   "source": [
    "![](tutorial-stochastic/circle_square_dots.png)"
   ]
  },
  {
   "cell_type": "markdown",
   "id": "5c12bceb-c2ad-4cc2-98b9-4148667dc1c7",
   "metadata": {},
   "source": [
    "**Figure 3.** Random dots inside the circle and square used to estimate a value of $\\pi$.\n",
    "\n",
    "Because the rain drops fall randomly, the probability of a drop falling in one of the shapes is proportional to the area of that shape, so dividing the number of drops in the circle by the number of drop in the square provides a estimate of $\\frac { A_{circle} }{ A_{square} }$ which then can be used to calculate $\\pi$. Counting rain is a bit tedious and challenging, so we can simulate this using a random number generator to produce random ($x, y$) coordinates of dots inside the square. We then total the number of these that fall inside the circle versus the square and complete the calculation to obtain a value of $\\pi$.\n",
    "\n",
    "For smilicity, we will center our circle and square around the origin and give the circle a radius = 1. This requires the coordinates to fall in the [-1, 1) ranges along both the $x$- and $y$-axes. We have no random number generator that produces values in this range, but we can modify the `random()` method which generates floats in the [0, 1) range by multiplying by 2 and substracting 1 as demonstrated below.\n",
    "\n",
    "~~~python\n",
    "rng = np.random.default_rng()\n",
    "x = 2 * rng.random() - 1\n",
    "~~~"
   ]
  },
  {
   "cell_type": "markdown",
   "id": "70c285c1-adae-453e-a895-fb515ea562ab",
   "metadata": {},
   "source": [
    "Below is a function that performs this simulation and calculation of $\\pi$ with the only function argument `n_samples` as the number of dots generated. The general proceedure is ouline here.\n",
    "1. Generate `n_samples` of ($x, y$) coordinates using the `random()` method\n",
    "2. Calculate the distance from the origin using the `np.hypot()` function to determine if the dot is inside the circle (all dots are inside the square)\n",
    "3. Calculate $\\pi$"
   ]
  },
  {
   "cell_type": "code",
   "execution_count": 11,
   "id": "e70bfca5-3606-4c3c-ad76-fc715f1f5ef4",
   "metadata": {},
   "outputs": [],
   "source": [
    "def estimate_pi(n_samples):\n",
    "    '''(integer) -> pi (float)\n",
    "    \n",
    "    Estimates the value of pi by finding the ratio of the area of a unit circle/area of a unit square\n",
    "    and multiplying by 4.\n",
    "    '''\n",
    "\n",
    "    n_samples = int(n_samples)\n",
    "    \n",
    "    # Step 1\n",
    "    rng = np.random.default_rng()\n",
    "    coords = rng.random(size=(n_samples, 2))\n",
    "\n",
    "    # Step 2\n",
    "    dist_from_origin = np.hypot(coords[:,0], coords[:,1]) # distance from the origion\n",
    "    in_circle = dist_from_origin[dist_from_origin <= 1] # if <= 1, the point is inside the circle\n",
    "\n",
    "    # Step 3\n",
    "    pi = 4 * (in_circle.size / n_samples)\n",
    "    \n",
    "    return pi"
   ]
  },
  {
   "cell_type": "markdown",
   "id": "d34736f4-21f4-4e15-a3b3-d68cbf90b782",
   "metadata": {},
   "source": [
    "We can then call this function with 100 dots generated. Because we are using a random number generator, every time we call this function, we likley get a different value for $\\pi$."
   ]
  },
  {
   "cell_type": "code",
   "execution_count": 12,
   "id": "c3bac1dc-e420-4b2d-a0b7-8b3fce9f277b",
   "metadata": {},
   "outputs": [
    {
     "data": {
      "text/plain": [
       "3.08"
      ]
     },
     "execution_count": 12,
     "metadata": {},
     "output_type": "execute_result"
    }
   ],
   "source": [
    "estimate_pi(100)"
   ]
  },
  {
   "cell_type": "code",
   "execution_count": 13,
   "id": "19575a49-311d-4c27-aa34-2cd8a3539265",
   "metadata": {},
   "outputs": [
    {
     "data": {
      "text/plain": [
       "3.16"
      ]
     },
     "execution_count": 13,
     "metadata": {},
     "output_type": "execute_result"
    }
   ],
   "source": [
    "estimate_pi(100)"
   ]
  },
  {
   "cell_type": "markdown",
   "id": "947f9bfd-9550-440b-820b-eeb746dad01d",
   "metadata": {},
   "source": [
    "We can also generate a value for $\\pi$ using the `np.pi` to compare our answer to."
   ]
  },
  {
   "cell_type": "code",
   "execution_count": 14,
   "id": "9d107cde-6f0a-48ae-9258-0392f41cc37d",
   "metadata": {},
   "outputs": [
    {
     "data": {
      "text/plain": [
       "3.141592653589793"
      ]
     },
     "execution_count": 14,
     "metadata": {},
     "output_type": "execute_result"
    }
   ],
   "source": [
    "np.pi"
   ]
  },
  {
   "cell_type": "markdown",
   "id": "dfdb0029-6ef8-49d9-997a-2b25ad65fe5e",
   "metadata": {},
   "source": [
    "Odds are that the values calculated above for $\\pi$ above is close but not exactly 3.14. If we increase the number of dots, the value for $\\pi$ will on average become closer to the true value. While it may be tempting to just call the function with an extremely large number of dots, this can take substatially longer to computer."
   ]
  },
  {
   "cell_type": "code",
   "execution_count": 15,
   "id": "d49d0955-f5e9-4214-abb2-2f0c9c4f470c",
   "metadata": {},
   "outputs": [
    {
     "data": {
      "text/plain": [
       "3.14157644"
      ]
     },
     "execution_count": 15,
     "metadata": {},
     "output_type": "execute_result"
    }
   ],
   "source": [
    "estimate_pi(1E8)"
   ]
  },
  {
   "cell_type": "markdown",
   "id": "cbc28bcb-b975-4d82-9f06-6a6378bf09c2",
   "metadata": {},
   "source": [
    "## Simulating radioactive decay\n",
    "\n",
    "As a final example, we will simulate the radioactive decay of the radioactive nuclide $^{137m}$Ba to determine the quantity of undecayed material versus time. We will then compare it to an analytical model to see how well the two agree. Radioactive nuclei decay by first-order kinetics, which means that each radioactive nucleus has a fixed probability of decaying at any given time. This is analogous to how each six-sided die in a bucket has a fixed probability of rolling a one each time they are dumped out. This analogy is so good that we can simulate the decay process by generating a large number of random integers with fixed probabilities.\n",
    "\n",
    "The first thing we need to is to know the probability of a nucleus decaying in a single second. Because this is a first-order process, the rate (-dA/dt) is described by\n",
    "\n",
    "$$ \\frac{-dA}{dt} = kA $$\n",
    "\n",
    "where A is the quantity of $^{137m}$Ba, $t$ is time in seconds, and $k$ is the rate constant for this process. We also know that the half-life (t$_{1/2}$) of  $^{137m}$Ba is about 151 seconds which is related to the rate constant by the following equation.\n",
    "\n",
    "$$ t_{1/2} = \\frac{ln(2)}{k} $$\n",
    "\n",
    "This means that $k$ = 4.59e$^{-3}$ s$^{-1}$. For first-order kinetics, this means that 4.59e$^{-3}$ fraction of the nuclei decays, so this is the probability we need to simulate this process using random numbers. The function below calculates the fraction of radioactive material remaining based on a rate constant `k` and allows the users to choose the number of simulated nuclei `n` and duraction of the simulation `n_final`."
   ]
  },
  {
   "cell_type": "code",
   "execution_count": 16,
   "id": "f5ec62ec-f980-43ea-b5ea-19d7a6de8450",
   "metadata": {},
   "outputs": [],
   "source": [
    "def decay(k, n=1000, t_final=1000):\n",
    "    '''floats and integers -> ndarray of integers\n",
    "\n",
    "    Calculates the fraction of nuclei remaining at each second in the simulation given n initial \n",
    "    nuclei with a rate constant k of decaying each second and a final simulation time t_final.\n",
    "    '''\n",
    "\n",
    "    n_undecayed = n\n",
    "    undecayed_array = np.full(t_final + 1, n)\n",
    "    \n",
    "    for second in range(1, t_final + 1):\n",
    "        decays = rng.binomial(1, p=k, size=n_undecayed).sum()\n",
    "        n_undecayed -= decays\n",
    "        undecayed_array[second] = n_undecayed\n",
    "        \n",
    "    fraction = undecayed_array / n    \n",
    "    \n",
    "    \n",
    "    return fraction"
   ]
  },
  {
   "cell_type": "markdown",
   "id": "61e2bc98-4518-4b2b-a33d-b8303ee65a53",
   "metadata": {},
   "source": [
    "Below we simulate the decay of $^{137m}$Ba using a hundred simulated nuclei."
   ]
  },
  {
   "cell_type": "code",
   "execution_count": 17,
   "id": "bd9d6811-2248-4c12-b834-385658b40baa",
   "metadata": {},
   "outputs": [
    {
     "data": {
      "text/plain": [
       "array([1.  , 1.  , 1.  , ..., 0.01, 0.01, 0.01])"
      ]
     },
     "execution_count": 17,
     "metadata": {},
     "output_type": "execute_result"
    }
   ],
   "source": [
    "decay(4.59e-3, n=100)"
   ]
  },
  {
   "cell_type": "markdown",
   "id": "8320f7c8-31ea-4272-8683-9cd477f943c6",
   "metadata": {},
   "source": [
    "We can plot and compare this simulation to the analytical model for this simulation knowing that the fraction of undecayed nuclei ($\\frac{A}{A_0}$) is described by the following first-order equation where $A_0$ and $A_t$ are the initial quantities and quantities of nuclei at time $t$.\n",
    "\n",
    "$$ \\frac{A_t}{A_0} = e^{-kt} $$"
   ]
  },
  {
   "cell_type": "code",
   "execution_count": 18,
   "id": "aff9c2ec-a032-4fc7-8ca0-46502ab1b31c",
   "metadata": {},
   "outputs": [
    {
     "data": {
      "image/png": "[encoded data removed]",
      "text/plain": [
       "<Figure size 640x480 with 1 Axes>"
      ]
     },
     "metadata": {},
     "output_type": "display_data"
    }
   ],
   "source": [
    "seconds = np.arange(1001)\n",
    "fraction = np.exp(-4.59e-3 * seconds)\n",
    "\n",
    "plt.plot(seconds, fraction, linestyle='-', label='Theoretical')\n",
    "plt.plot(seconds, decay(4.59e-3, n=500), linestyle='--', label='Simulation')\n",
    "plt.xlabel('Time, s')\n",
    "plt.ylabel('Fraction of Undecayed Nuclei')\n",
    "plt.legend();"
   ]
  },
  {
   "cell_type": "markdown",
   "id": "10d2f74f-06d1-418e-a9e0-14265c58171a",
   "metadata": {},
   "source": [
    "The simulation is in good agreement with the theoretical model, but this is some discrepency. If we increase the number of simulated nuclei, the simulation should align better with the theoretical values."
   ]
  },
  {
   "cell_type": "code",
   "execution_count": 19,
   "id": "bae004b9-9cf0-4975-aaa5-b9b410b69cde",
   "metadata": {},
   "outputs": [
    {
     "data": {
      "image/png": "[encoded data removed]",
      "text/plain": [
       "<Figure size 640x480 with 1 Axes>"
      ]
     },
     "metadata": {},
     "output_type": "display_data"
    }
   ],
   "source": [
    "seconds = np.arange(1001)\n",
    "fraction = np.exp(-4.59e-3 * seconds)\n",
    "\n",
    "plt.plot(seconds, fraction, linestyle='-', label='Theoretical')\n",
    "plt.plot(seconds, decay(4.59e-3, n=5000), linestyle='--', label='Simulation')\n",
    "plt.xlabel('Time, s')\n",
    "plt.ylabel('Fraction of Undecayed Nuclei')\n",
    "plt.legend();"
   ]
  },
  {
   "cell_type": "markdown",
   "id": "7e193e9f-25ca-47fe-9809-16db9141e164",
   "metadata": {},
   "source": [
    "## Further reading\n",
    "\n",
    "- To learn more about NumPy random number generators, see [Random Generator](https://numpy.org/doc/stable/reference/random/index.html)\n",
    "- To learn more about random number distributions and their generation, see [Monte Carlo Simulation Part 5: Randomness & Random Number Generation](https://towardsdatascience.com/monte-carlo-simulation-421110b678c5?gi=f86d4ec9f452)\n",
    "- For examples of using random variables for chemical simulations, see chapter 9 of [Scientific Computing for Chemists](https://weisscharlesj.github.io/SciCompforChemists/intro.html)"
   ]
  }
 ],
 "metadata": {
  "kernelspec": {
   "display_name": "Python 3 (ipykernel)",
   "language": "python",
   "name": "python3"
  },
  "language_info": {
   "codemirror_mode": {
    "name": "ipython",
    "version": 3
   },
   "file_extension": ".py",
   "mimetype": "text/x-python",
   "name": "python",
   "nbconvert_exporter": "python",
   "pygments_lexer": "ipython3",
   "version": "3.10.8"
  }
 },
 "nbformat": 4,
 "nbformat_minor": 5
}
